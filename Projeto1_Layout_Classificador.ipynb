{
  "nbformat": 4,
  "nbformat_minor": 2,
  "metadata": {
    "kernelspec": {
      "name": "python3",
      "display_name": "Python 3.8.8 64-bit ('base': conda)"
    },
    "language_info": {
      "codemirror_mode": {
        "name": "ipython",
        "version": 3
      },
      "file_extension": ".py",
      "mimetype": "text/x-python",
      "name": "python",
      "nbconvert_exporter": "python",
      "pygments_lexer": "ipython3",
      "version": "3.8.8"
    },
    "interpreter": {
      "hash": "dca0ade3e726a953b501b15e8e990130d2b7799f14cfd9f4271676035ebe5511"
    },
    "colab": {
      "name": "Projeto1_Layout_Classificador.ipynb",
      "provenance": []
    }
  },
  "cells": [
    {
      "cell_type": "markdown",
      "source": [
        "# Projeto 1 - Ciência dos Dados\n"
      ],
      "metadata": {
        "id": "V2XTA7geS5Yw"
      }
    },
    {
      "cell_type": "markdown",
      "source": [
        "Nome: Enricco Gemha\n",
        "\n",
        "Nome: Marcelo Rabello Barranco\n",
        "\n",
        "Nome: Rafael Coca Leventhal\n"
      ],
      "metadata": {
        "id": "JBhxFDZOS5Y4"
      }
    },
    {
      "cell_type": "markdown",
      "source": [
        "Atenção: Serão permitidos grupos de três pessoas, mas com uma rubrica mais exigente. Grupos deste tamanho precisarão fazer um questionário de avaliação de trabalho em equipe\n"
      ],
      "metadata": {
        "id": "CVBlQguES5Y6"
      }
    },
    {
      "cell_type": "markdown",
      "source": [
        "---\n",
        "\n",
        "Carregando algumas bibliotecas:\n"
      ],
      "metadata": {
        "id": "R_wmY84fS5Y7"
      }
    },
    {
      "cell_type": "code",
      "execution_count": 1,
      "source": [
        "import pandas as pd\n",
        "import matplotlib.pyplot as plt\n",
        "import numpy as np\n",
        "import os\n",
        "import re\n",
        "import nltk\n",
        "\n",
        "nltk.download('rslp');\n",
        "nltk.download('stopwords');"
      ],
      "outputs": [
        {
          "output_type": "stream",
          "name": "stderr",
          "text": [
            "[nltk_data] Downloading package rslp to\n",
            "[nltk_data]     /Users/enriccogemha/nltk_data...\n",
            "[nltk_data]   Package rslp is already up-to-date!\n",
            "[nltk_data] Downloading package stopwords to\n",
            "[nltk_data]     /Users/enriccogemha/nltk_data...\n",
            "[nltk_data]   Package stopwords is already up-to-date!\n"
          ]
        }
      ],
      "metadata": {
        "id": "fVH7780HS5ZC",
        "outputId": "a852d266-532d-481b-ef2b-fcc1b1bc79a5",
        "colab": {
          "base_uri": "https://localhost:8080/"
        }
      }
    },
    {
      "cell_type": "code",
      "execution_count": 2,
      "source": [
        "print('Esperamos trabalhar no diretório')\n",
        "print(os.getcwd())"
      ],
      "outputs": [
        {
          "output_type": "stream",
          "name": "stdout",
          "text": [
            "Esperamos trabalhar no diretório\n",
            "/Users/enriccogemha/Documents/Documentos - iMac de Enricco/GitHub/projeto1-cdados\n"
          ]
        }
      ],
      "metadata": {
        "scrolled": false,
        "id": "0UeYWJMUS5ZD",
        "outputId": "0fcb60f8-437b-44a5-d368-22ca80e5b0c1",
        "colab": {
          "base_uri": "https://localhost:8080/"
        }
      }
    },
    {
      "cell_type": "markdown",
      "source": [
        "Carregando a base de dados com os tweets classificados com os critérios explicitados no README.md do projeto:"
      ],
      "metadata": {
        "id": "bPeNbqKCS5Z4"
      }
    },
    {
      "cell_type": "code",
      "execution_count": 3,
      "source": [
        "filename = 'iphone.xlsx'"
      ],
      "outputs": [],
      "metadata": {
        "id": "-hx1Xr__S5Z6"
      }
    },
    {
      "cell_type": "code",
      "execution_count": 4,
      "source": [
        "train = pd.read_excel(filename)\n",
        "train.head()"
      ],
      "outputs": [
        {
          "output_type": "execute_result",
          "data": {
            "text/html": [
              "<div>\n",
              "<style scoped>\n",
              "    .dataframe tbody tr th:only-of-type {\n",
              "        vertical-align: middle;\n",
              "    }\n",
              "\n",
              "    .dataframe tbody tr th {\n",
              "        vertical-align: top;\n",
              "    }\n",
              "\n",
              "    .dataframe thead th {\n",
              "        text-align: right;\n",
              "    }\n",
              "</style>\n",
              "<table border=\"1\" class=\"dataframe\">\n",
              "  <thead>\n",
              "    <tr style=\"text-align: right;\">\n",
              "      <th></th>\n",
              "      <th>Treinamento</th>\n",
              "      <th>RELEVÂNCIA</th>\n",
              "    </tr>\n",
              "  </thead>\n",
              "  <tbody>\n",
              "    <tr>\n",
              "      <th>0</th>\n",
              "      <td>- pego meu iphone 15 pro max 6g\\n- ligo pra mi...</td>\n",
              "      <td>0</td>\n",
              "    </tr>\n",
              "    <tr>\n",
              "      <th>1</th>\n",
              "      <td>@venusbillie ai fica tao mais bonito no iphone...</td>\n",
              "      <td>4</td>\n",
              "    </tr>\n",
              "    <tr>\n",
              "      <th>2</th>\n",
              "      <td>mas tambem quem compra iphone 6 em 2021 tem ma...</td>\n",
              "      <td>4</td>\n",
              "    </tr>\n",
              "    <tr>\n",
              "      <th>3</th>\n",
              "      <td>feliz pra crl , pegar meu iphone agr 😅</td>\n",
              "      <td>4</td>\n",
              "    </tr>\n",
              "    <tr>\n",
              "      <th>4</th>\n",
              "      <td>@tatielly_keys vc tem iphone?</td>\n",
              "      <td>0</td>\n",
              "    </tr>\n",
              "  </tbody>\n",
              "</table>\n",
              "</div>"
            ],
            "text/plain": [
              "                                         Treinamento  RELEVÂNCIA\n",
              "0  - pego meu iphone 15 pro max 6g\\n- ligo pra mi...           0\n",
              "1  @venusbillie ai fica tao mais bonito no iphone...           4\n",
              "2  mas tambem quem compra iphone 6 em 2021 tem ma...           4\n",
              "3             feliz pra crl , pegar meu iphone agr 😅           4\n",
              "4                      @tatielly_keys vc tem iphone?           0"
            ]
          },
          "metadata": {},
          "execution_count": 4
        }
      ],
      "metadata": {
        "id": "_mvtX4-tS5Z8",
        "outputId": "fbf23c37-d0d3-48a1-99eb-7195a380a8f5",
        "colab": {
          "base_uri": "https://localhost:8080/",
          "height": 414
        }
      }
    },
    {
      "cell_type": "code",
      "execution_count": 5,
      "source": [
        "train.RELEVÂNCIA.value_counts(True)"
      ],
      "outputs": [
        {
          "output_type": "execute_result",
          "data": {
            "text/plain": [
              "0    0.277333\n",
              "4    0.241333\n",
              "2    0.204000\n",
              "3    0.152000\n",
              "1    0.125333\n",
              "Name: RELEVÂNCIA, dtype: float64"
            ]
          },
          "metadata": {},
          "execution_count": 5
        }
      ],
      "metadata": {}
    },
    {
      "cell_type": "code",
      "execution_count": 6,
      "source": [
        "test = pd.read_excel(filename, sheet_name='Teste')\n",
        "test.head()"
      ],
      "outputs": [
        {
          "output_type": "execute_result",
          "data": {
            "text/html": [
              "<div>\n",
              "<style scoped>\n",
              "    .dataframe tbody tr th:only-of-type {\n",
              "        vertical-align: middle;\n",
              "    }\n",
              "\n",
              "    .dataframe tbody tr th {\n",
              "        vertical-align: top;\n",
              "    }\n",
              "\n",
              "    .dataframe thead th {\n",
              "        text-align: right;\n",
              "    }\n",
              "</style>\n",
              "<table border=\"1\" class=\"dataframe\">\n",
              "  <thead>\n",
              "    <tr style=\"text-align: right;\">\n",
              "      <th></th>\n",
              "      <th>Teste</th>\n",
              "      <th>RELEVÂNCIA</th>\n",
              "    </tr>\n",
              "  </thead>\n",
              "  <tbody>\n",
              "    <tr>\n",
              "      <th>0</th>\n",
              "      <td>minha mãe podia me dá um iphone só de pena no ...</td>\n",
              "      <td>4</td>\n",
              "    </tr>\n",
              "    <tr>\n",
              "      <th>1</th>\n",
              "      <td>qria fazer a trend da tv alem de ser pequena n...</td>\n",
              "      <td>4</td>\n",
              "    </tr>\n",
              "    <tr>\n",
              "      <th>2</th>\n",
              "      <td>papo de q o whatsapp de quem tem iphone vai pa...</td>\n",
              "      <td>3</td>\n",
              "    </tr>\n",
              "    <tr>\n",
              "      <th>3</th>\n",
              "      <td>iphone 13 vai esperar mais um pouco pq a gata ...</td>\n",
              "      <td>4</td>\n",
              "    </tr>\n",
              "    <tr>\n",
              "      <th>4</th>\n",
              "      <td>alguém sabe se quando quebra a tela do iphone ...</td>\n",
              "      <td>3</td>\n",
              "    </tr>\n",
              "  </tbody>\n",
              "</table>\n",
              "</div>"
            ],
            "text/plain": [
              "                                               Teste  RELEVÂNCIA\n",
              "0  minha mãe podia me dá um iphone só de pena no ...           4\n",
              "1  qria fazer a trend da tv alem de ser pequena n...           4\n",
              "2  papo de q o whatsapp de quem tem iphone vai pa...           3\n",
              "3  iphone 13 vai esperar mais um pouco pq a gata ...           4\n",
              "4  alguém sabe se quando quebra a tela do iphone ...           3"
            ]
          },
          "metadata": {},
          "execution_count": 6
        }
      ],
      "metadata": {
        "id": "cjEBtlhQS5Z-",
        "outputId": "583c937a-0b6b-4f6e-a7d8-c704f99650f8",
        "colab": {
          "base_uri": "https://localhost:8080/",
          "height": 202
        }
      }
    },
    {
      "cell_type": "markdown",
      "source": [
        "---\n",
        "\n",
        "## Classificador automático de sentimento\n"
      ],
      "metadata": {
        "id": "sl0W5enaS5aG"
      }
    },
    {
      "cell_type": "markdown",
      "source": [
        "Produto: iPhone (dispensa descrições)\r\n",
        "\r\n",
        "- MUITO IRRELEVANTE: falando de outro assunto, não envolve o iPhone, pessoas que não sabem tweetar ou se comunicar (Ex: só colocou uma hashtag)\r\n",
        "- IRRELEVANTE: anúncios de venda (EX: venha comprar no magalu)\r\n",
        "- NEUTRO: piada sobre o iPhone (EX: iPhone é o Corsa em miniatura kkkkkk)\r\n",
        "- RELEVANTE: comentário indireto relacionado ao iPhone (EX: meu professor de ciências passou 30 minutos só falando do novo iPhone dele)\r\n",
        "- MUITO RELEVANTE: falando objetivamente do iPhone, tipo opinião, dúvida ou desejo de comprar (EX: iPhone 13 vai esperar um pouco para chegar em minhas mãos)\r\n",
        "\r\n",
        "* MUITO IRRELEVANTE = 0\r\n",
        "* IRRELEVANTE = 1\r\n",
        "* NEUTRO = 2\r\n",
        "* RELEVANTE = 3\r\n",
        "* MUITO RELEVANTE = 4\r\n"
      ],
      "metadata": {
        "id": "1WGIer6xS5aH"
      }
    },
    {
      "cell_type": "markdown",
      "source": [
        "---\r\n",
        "\r\n",
        "### Montando um Classificador Naive-Bayes\r\n",
        "\r\n",
        "Considerando apenas as mensagens da planilha Treinamento, ensine seu classificador.\r\n"
      ],
      "metadata": {
        "id": "hiqt4KqjS5aK"
      }
    },
    {
      "cell_type": "markdown",
      "source": [
        "### Definindo a função de limpeza dos Tweets\r\n",
        "\r\n",
        "A função abaixo é responsável por remover, respectivamente: \r\n",
        "- links (tipos HTTP, HTTPS e FTP) \r\n",
        "- tags de usernames (@)\r\n",
        "- sinais de pontuação (! - _ . : ? ; [] \\ /)\r\n",
        "\r\n",
        "Além disso, a função também é responsável por realizar os seguintes processos:\r\n",
        "- STEMMING (descrito na documentação do NLTK como: \"A processing interface for removing morphological affixes from words.\")\r\n",
        "\r\n",
        "- TOKENIZING (descrito pela documentação do NLTK como: \"A tokenizer that divides a string into substrings by splitting on the specified string (defined in subclasses).\")"
      ],
      "metadata": {}
    },
    {
      "cell_type": "code",
      "execution_count": 7,
      "source": [
        "def clean_data(text):\n",
        "    # remover endereço\n",
        "    http_re = r'(http|ftp|https)://([\\w_-]+(?:(?:\\.[\\w_-]+)+))([\\w.,@?^=%&:/~+#-]*[\\w@?^=%&/~+#-])?'\n",
        "    text = re.sub(http_re, '', text)\n",
        "\n",
        "    # remover usernames\n",
        "    text = re.sub(r'@[^\\s]*', '', text)\n",
        "\n",
        "    # removendo sinais de pontuação\n",
        "    text = re.sub(r'[!-_.:?;[\\]/]', '', text)\n",
        "\n",
        "    # tokenizing\n",
        "    tokenizer = nltk.tokenize.casual.TweetTokenizer()\n",
        "    text = tokenizer.tokenize(text)\n",
        "\n",
        "    # stemming\n",
        "    stemmer = nltk.stem.RSLPStemmer()\n",
        "    text = list(map(stemmer.stem, text))\n",
        "\n",
        "    return text\n"
      ],
      "outputs": [],
      "metadata": {
        "id": "SWg43YgpS5aN"
      }
    },
    {
      "cell_type": "code",
      "execution_count": 8,
      "source": [
        "# preparando os dados\n",
        "train.loc[:, 'Treinamento'] = train.Treinamento.apply(clean_data)\n",
        "train_relevancia = train.RELEVÂNCIA.map({\n",
        "    0: 'muito irrelevante',\n",
        "    1: 'irrelevante',\n",
        "    2: 'neutro',\n",
        "    3: 'relevante',\n",
        "    4: 'muito relevante'\n",
        "})\n",
        "\n",
        "categorias = ['muito irrelevante', 'irrelevante',\n",
        "              'neutro', 'relevante', 'muito relevante']\n",
        "\n",
        "train.loc[:, 'RELEVÂNCIA'] = pd.Categorical(\n",
        "    train_relevancia, categories=categorias, ordered=True\n",
        ")\n",
        "train.head()"
      ],
      "outputs": [
        {
          "output_type": "execute_result",
          "data": {
            "text/html": [
              "<div>\n",
              "<style scoped>\n",
              "    .dataframe tbody tr th:only-of-type {\n",
              "        vertical-align: middle;\n",
              "    }\n",
              "\n",
              "    .dataframe tbody tr th {\n",
              "        vertical-align: top;\n",
              "    }\n",
              "\n",
              "    .dataframe thead th {\n",
              "        text-align: right;\n",
              "    }\n",
              "</style>\n",
              "<table border=\"1\" class=\"dataframe\">\n",
              "  <thead>\n",
              "    <tr style=\"text-align: right;\">\n",
              "      <th></th>\n",
              "      <th>Treinamento</th>\n",
              "      <th>RELEVÂNCIA</th>\n",
              "    </tr>\n",
              "  </thead>\n",
              "  <tbody>\n",
              "    <tr>\n",
              "      <th>0</th>\n",
              "      <td>[peg, meu, iphon, pro, max, g, lig, pra, minh,...</td>\n",
              "      <td>muito irrelevante</td>\n",
              "    </tr>\n",
              "    <tr>\n",
              "      <th>1</th>\n",
              "      <td>[ai, fic, tao, mais, bonit, no, iphon, q, dor, 💔]</td>\n",
              "      <td>muito relevante</td>\n",
              "    </tr>\n",
              "    <tr>\n",
              "      <th>2</th>\n",
              "      <td>[mas, tamb, qu, compr, iphon, em, tem, mais, q...</td>\n",
              "      <td>muito relevante</td>\n",
              "    </tr>\n",
              "    <tr>\n",
              "      <th>3</th>\n",
              "      <td>[feliz, pra, crl, peg, meu, iphon, agr, 😅]</td>\n",
              "      <td>muito relevante</td>\n",
              "    </tr>\n",
              "    <tr>\n",
              "      <th>4</th>\n",
              "      <td>[vc, tem, iphon]</td>\n",
              "      <td>muito irrelevante</td>\n",
              "    </tr>\n",
              "  </tbody>\n",
              "</table>\n",
              "</div>"
            ],
            "text/plain": [
              "                                         Treinamento         RELEVÂNCIA\n",
              "0  [peg, meu, iphon, pro, max, g, lig, pra, minh,...  muito irrelevante\n",
              "1  [ai, fic, tao, mais, bonit, no, iphon, q, dor, 💔]    muito relevante\n",
              "2  [mas, tamb, qu, compr, iphon, em, tem, mais, q...    muito relevante\n",
              "3         [feliz, pra, crl, peg, meu, iphon, agr, 😅]    muito relevante\n",
              "4                                   [vc, tem, iphon]  muito irrelevante"
            ]
          },
          "metadata": {},
          "execution_count": 8
        }
      ],
      "metadata": {
        "id": "FyP5djm7S5aj",
        "outputId": "af5f13bd-4553-47b3-9823-065dc325a28a",
        "colab": {
          "base_uri": "https://localhost:8080/",
          "height": 414
        }
      }
    },
    {
      "cell_type": "code",
      "execution_count": 9,
      "source": [
        "train.RELEVÂNCIA.describe()"
      ],
      "outputs": [
        {
          "output_type": "execute_result",
          "data": {
            "text/plain": [
              "count                   750\n",
              "unique                    5\n",
              "top       muito irrelevante\n",
              "freq                    208\n",
              "Name: RELEVÂNCIA, dtype: object"
            ]
          },
          "metadata": {},
          "execution_count": 9
        }
      ],
      "metadata": {
        "id": "4sOpBi-Apnpy",
        "outputId": "bf4efa64-3003-443c-eb28-5868c067f430",
        "colab": {
          "base_uri": "https://localhost:8080/"
        }
      }
    },
    {
      "cell_type": "markdown",
      "source": [
        "## Construindo o Classificador Naïve-Bayes\n",
        "\n",
        "O processo consiste em ensinar o classificador, com base nos tweets coletados SOMENTE na planilha de treinamento (train), com os seguintes passos:\n",
        "<ol>\n",
        "    <li>\n",
        "        criar uma lista com as categorias de relevâncias\n",
        "    </li>\n",
        "    <li>\n",
        "        criar uma lista de palavras com somente 1 ocorrência por todos os tweets\n",
        "    </li>\n",
        "    <li>\n",
        "        criar um dicionário com as palavras de cada categoria\n",
        "    </li>\n",
        "    <li>\n",
        "        criar um dicionário com o número de vezes que cada palavra é mencionada\n",
        "    </li>\n",
        "</ol>"
      ],
      "metadata": {}
    },
    {
      "cell_type": "code",
      "execution_count": 10,
      "source": [
        "# construindo classificador\n",
        "categorias = ['muito irrelevante', 'irrelevante',\n",
        "              'neutro', 'relevante', 'muito relevante']\n",
        "\n",
        "# lista de palavras/emojis presentes em toda a base de dados\n",
        "total_de_palavras = sum(train.Treinamento, [])\n",
        "\n",
        "# número de palavras/emojis únicos presentes em toda a base de dados\n",
        "palavras_unicas = set(total_de_palavras)\n",
        "\n",
        "# dicionário de palavras por categoria\n",
        "palavras_por_categoria = {\n",
        "    categoria: sum(train[train.RELEVÂNCIA == categoria].Treinamento, [])\n",
        "    for categoria in categorias\n",
        "}\n",
        "\n",
        "# número de ocorrências de palavra por categoria\n",
        "ocorrencia_de_palavras_por_categoria =  {\n",
        "    categoria: {\n",
        "        palavra: palavras_por_categoria[categoria].count(palavra)\n",
        "        for palavra in palavras_unicas\n",
        "    }\n",
        "    for categoria in categorias\n",
        "}\n",
        "\n",
        "# probabalidade por categoria\n",
        "prob_por_categoria = {\n",
        "    categoria: len(palavras_por_categoria[categoria]) / len(total_de_palavras)\n",
        "    for categoria in categorias\n",
        "}"
      ],
      "outputs": [],
      "metadata": {
        "id": "5NbtRQJPdAoh"
      }
    },
    {
      "cell_type": "markdown",
      "source": [
        "## Probabilidade\n",
        "\n",
        "Nesta seção, o processo consiste em definir a probabilidade de ser uma categoria dado o evento frase."
      ],
      "metadata": {}
    },
    {
      "cell_type": "code",
      "execution_count": 11,
      "source": [
        "# definindo função que calcula a probabilidade de frase pertencer a determinada categoria\n",
        "def prob_frase(categoria, frase):\n",
        "    '''\n",
        "    Calcula a probabilidade de frase estar em categoria\n",
        "    '''\n",
        "    # limpeza de frase caso forneciada no formato de str\n",
        "    if frase is str:\n",
        "        frase = clean_data(frase)\n",
        "    # cálculo da probabilidade\n",
        "    return prob_por_categoria[categoria] * np.array(list(\n",
        "        # probabilidade de cada palavra com suavização de laplace\n",
        "        (((ocorrencia_de_palavras_por_categoria[categoria][palavra] + 1)\n",
        "        if palavra in palavras_unicas else 1) /\n",
        "         (len(palavras_por_categoria[categoria]) + len(palavras_unicas)))\n",
        "        for palavra in frase\n",
        "    )).prod()  # produto da probabilidade de cada palavra"
      ],
      "outputs": [],
      "metadata": {}
    },
    {
      "cell_type": "markdown",
      "source": [
        "## Montando a função do classificador\n",
        "\n",
        "Por fim, estrutura-se a função classificador, responsável por retornar a categoria com a maior chance de conter a dada frase, utilizando a probabilidade calculada na célula anterior."
      ],
      "metadata": {}
    },
    {
      "cell_type": "code",
      "execution_count": 12,
      "source": [
        "def classificador(frase):\n",
        "    '''\n",
        "    Retorna a categoria com a maior probabilidade de conter frase\n",
        "    '''\n",
        "    return max(\n",
        "        categorias, key=lambda categoria: prob_frase(categoria, frase)\n",
        "    )"
      ],
      "outputs": [],
      "metadata": {}
    },
    {
      "cell_type": "markdown",
      "source": [
        "---\n",
        "\n",
        "### Verificando a performance do Classificador\n",
        "\n",
        "Agora você deve testar o seu classificador com a base de Testes.\n"
      ],
      "metadata": {
        "id": "h5Gxod3lS5al"
      }
    },
    {
      "cell_type": "code",
      "execution_count": 13,
      "source": [
        "# verificando o df que trabalharemos\n",
        "test.head()"
      ],
      "outputs": [
        {
          "output_type": "execute_result",
          "data": {
            "text/html": [
              "<div>\n",
              "<style scoped>\n",
              "    .dataframe tbody tr th:only-of-type {\n",
              "        vertical-align: middle;\n",
              "    }\n",
              "\n",
              "    .dataframe tbody tr th {\n",
              "        vertical-align: top;\n",
              "    }\n",
              "\n",
              "    .dataframe thead th {\n",
              "        text-align: right;\n",
              "    }\n",
              "</style>\n",
              "<table border=\"1\" class=\"dataframe\">\n",
              "  <thead>\n",
              "    <tr style=\"text-align: right;\">\n",
              "      <th></th>\n",
              "      <th>Teste</th>\n",
              "      <th>RELEVÂNCIA</th>\n",
              "    </tr>\n",
              "  </thead>\n",
              "  <tbody>\n",
              "    <tr>\n",
              "      <th>0</th>\n",
              "      <td>minha mãe podia me dá um iphone só de pena no ...</td>\n",
              "      <td>4</td>\n",
              "    </tr>\n",
              "    <tr>\n",
              "      <th>1</th>\n",
              "      <td>qria fazer a trend da tv alem de ser pequena n...</td>\n",
              "      <td>4</td>\n",
              "    </tr>\n",
              "    <tr>\n",
              "      <th>2</th>\n",
              "      <td>papo de q o whatsapp de quem tem iphone vai pa...</td>\n",
              "      <td>3</td>\n",
              "    </tr>\n",
              "    <tr>\n",
              "      <th>3</th>\n",
              "      <td>iphone 13 vai esperar mais um pouco pq a gata ...</td>\n",
              "      <td>4</td>\n",
              "    </tr>\n",
              "    <tr>\n",
              "      <th>4</th>\n",
              "      <td>alguém sabe se quando quebra a tela do iphone ...</td>\n",
              "      <td>3</td>\n",
              "    </tr>\n",
              "  </tbody>\n",
              "</table>\n",
              "</div>"
            ],
            "text/plain": [
              "                                               Teste  RELEVÂNCIA\n",
              "0  minha mãe podia me dá um iphone só de pena no ...           4\n",
              "1  qria fazer a trend da tv alem de ser pequena n...           4\n",
              "2  papo de q o whatsapp de quem tem iphone vai pa...           3\n",
              "3  iphone 13 vai esperar mais um pouco pq a gata ...           4\n",
              "4  alguém sabe se quando quebra a tela do iphone ...           3"
            ]
          },
          "metadata": {},
          "execution_count": 13
        }
      ],
      "metadata": {}
    },
    {
      "cell_type": "code",
      "execution_count": 14,
      "source": [
        "# preparando df de teste\n",
        "test.loc[:, 'Teste'] = test.Teste.apply(clean_data)\n",
        "test_relevancia = test.RELEVÂNCIA.map(\n",
        "    {0: 'muito irrelevante',\n",
        "     1: 'irrelevante',\n",
        "     2: 'neutro',\n",
        "     3: 'relevante',\n",
        "     4: 'muito relevante'}\n",
        ")\n",
        "\n",
        "# criando as categorias do teste\n",
        "categorias_test = ['muito irrelevante', 'irrelevante',\n",
        "              'neutro', 'relevante', 'muito relevante']\n",
        "\n",
        "# unificacando as informações fornecidas pela classificação \"na mão\"\n",
        "test.loc[:, 'RELEVÂNCIA'] = pd.Categorical(\n",
        "    test_relevancia, categories=categorias_test, ordered=True\n",
        ")\n",
        "test.head()"
      ],
      "outputs": [
        {
          "output_type": "execute_result",
          "data": {
            "text/html": [
              "<div>\n",
              "<style scoped>\n",
              "    .dataframe tbody tr th:only-of-type {\n",
              "        vertical-align: middle;\n",
              "    }\n",
              "\n",
              "    .dataframe tbody tr th {\n",
              "        vertical-align: top;\n",
              "    }\n",
              "\n",
              "    .dataframe thead th {\n",
              "        text-align: right;\n",
              "    }\n",
              "</style>\n",
              "<table border=\"1\" class=\"dataframe\">\n",
              "  <thead>\n",
              "    <tr style=\"text-align: right;\">\n",
              "      <th></th>\n",
              "      <th>Teste</th>\n",
              "      <th>RELEVÂNCIA</th>\n",
              "    </tr>\n",
              "  </thead>\n",
              "  <tbody>\n",
              "    <tr>\n",
              "      <th>0</th>\n",
              "      <td>[minh, mãe, pod, me, dá, um, iphon, só, de, pe...</td>\n",
              "      <td>muito relevante</td>\n",
              "    </tr>\n",
              "    <tr>\n",
              "      <th>1</th>\n",
              "      <td>[qri, faz, a, trend, da, tv, alem, de, ser, pe...</td>\n",
              "      <td>muito relevante</td>\n",
              "    </tr>\n",
              "    <tr>\n",
              "      <th>2</th>\n",
              "      <td>[pap, de, q, o, whatsapp, de, qu, tem, iphon, ...</td>\n",
              "      <td>relevante</td>\n",
              "    </tr>\n",
              "    <tr>\n",
              "      <th>3</th>\n",
              "      <td>[iphon, vai, esper, mais, um, pouc, pq, a, gat...</td>\n",
              "      <td>muito relevante</td>\n",
              "    </tr>\n",
              "    <tr>\n",
              "      <th>4</th>\n",
              "      <td>[alguém, sab, se, qu, quebr, a, tel, do, iphon...</td>\n",
              "      <td>relevante</td>\n",
              "    </tr>\n",
              "  </tbody>\n",
              "</table>\n",
              "</div>"
            ],
            "text/plain": [
              "                                               Teste       RELEVÂNCIA\n",
              "0  [minh, mãe, pod, me, dá, um, iphon, só, de, pe...  muito relevante\n",
              "1  [qri, faz, a, trend, da, tv, alem, de, ser, pe...  muito relevante\n",
              "2  [pap, de, q, o, whatsapp, de, qu, tem, iphon, ...        relevante\n",
              "3  [iphon, vai, esper, mais, um, pouc, pq, a, gat...  muito relevante\n",
              "4  [alguém, sab, se, qu, quebr, a, tel, do, iphon...        relevante"
            ]
          },
          "metadata": {},
          "execution_count": 14
        }
      ],
      "metadata": {
        "id": "zcoahNDgS5al",
        "outputId": "e6189aa1-8031-480b-c40d-f993f913792c",
        "colab": {
          "base_uri": "https://localhost:8080/",
          "height": 414
        }
      }
    },
    {
      "cell_type": "code",
      "execution_count": 15,
      "source": [
        "# aplicando o classificador na tabela de teste\n",
        "test.loc[:, 'Classificador'] = pd.Categorical(\n",
        "    test.Teste.apply(classificador), categories=categorias, ordered=True\n",
        ")\n",
        "test.head()"
      ],
      "outputs": [
        {
          "output_type": "execute_result",
          "data": {
            "text/html": [
              "<div>\n",
              "<style scoped>\n",
              "    .dataframe tbody tr th:only-of-type {\n",
              "        vertical-align: middle;\n",
              "    }\n",
              "\n",
              "    .dataframe tbody tr th {\n",
              "        vertical-align: top;\n",
              "    }\n",
              "\n",
              "    .dataframe thead th {\n",
              "        text-align: right;\n",
              "    }\n",
              "</style>\n",
              "<table border=\"1\" class=\"dataframe\">\n",
              "  <thead>\n",
              "    <tr style=\"text-align: right;\">\n",
              "      <th></th>\n",
              "      <th>Teste</th>\n",
              "      <th>RELEVÂNCIA</th>\n",
              "      <th>Classificador</th>\n",
              "    </tr>\n",
              "  </thead>\n",
              "  <tbody>\n",
              "    <tr>\n",
              "      <th>0</th>\n",
              "      <td>[minh, mãe, pod, me, dá, um, iphon, só, de, pe...</td>\n",
              "      <td>muito relevante</td>\n",
              "      <td>relevante</td>\n",
              "    </tr>\n",
              "    <tr>\n",
              "      <th>1</th>\n",
              "      <td>[qri, faz, a, trend, da, tv, alem, de, ser, pe...</td>\n",
              "      <td>muito relevante</td>\n",
              "      <td>relevante</td>\n",
              "    </tr>\n",
              "    <tr>\n",
              "      <th>2</th>\n",
              "      <td>[pap, de, q, o, whatsapp, de, qu, tem, iphon, ...</td>\n",
              "      <td>relevante</td>\n",
              "      <td>muito irrelevante</td>\n",
              "    </tr>\n",
              "    <tr>\n",
              "      <th>3</th>\n",
              "      <td>[iphon, vai, esper, mais, um, pouc, pq, a, gat...</td>\n",
              "      <td>muito relevante</td>\n",
              "      <td>relevante</td>\n",
              "    </tr>\n",
              "    <tr>\n",
              "      <th>4</th>\n",
              "      <td>[alguém, sab, se, qu, quebr, a, tel, do, iphon...</td>\n",
              "      <td>relevante</td>\n",
              "      <td>neutro</td>\n",
              "    </tr>\n",
              "  </tbody>\n",
              "</table>\n",
              "</div>"
            ],
            "text/plain": [
              "                                               Teste       RELEVÂNCIA  \\\n",
              "0  [minh, mãe, pod, me, dá, um, iphon, só, de, pe...  muito relevante   \n",
              "1  [qri, faz, a, trend, da, tv, alem, de, ser, pe...  muito relevante   \n",
              "2  [pap, de, q, o, whatsapp, de, qu, tem, iphon, ...        relevante   \n",
              "3  [iphon, vai, esper, mais, um, pouc, pq, a, gat...  muito relevante   \n",
              "4  [alguém, sab, se, qu, quebr, a, tel, do, iphon...        relevante   \n",
              "\n",
              "       Classificador  \n",
              "0          relevante  \n",
              "1          relevante  \n",
              "2  muito irrelevante  \n",
              "3          relevante  \n",
              "4             neutro  "
            ]
          },
          "metadata": {},
          "execution_count": 15
        }
      ],
      "metadata": {
        "id": "wwEQAAYu9MZI",
        "outputId": "39a9e6e7-1240-44cd-967d-9630ecbe8a17",
        "colab": {
          "base_uri": "https://localhost:8080/",
          "height": 35
        }
      }
    },
    {
      "cell_type": "code",
      "execution_count": 16,
      "source": [
        "# performance da classificação feita na própria base de treinamento\n",
        "sum(train.RELEVÂNCIA == train.Treinamento) / train.shape[0]"
      ],
      "outputs": [
        {
          "output_type": "execute_result",
          "data": {
            "text/plain": [
              "0.0"
            ]
          },
          "metadata": {},
          "execution_count": 16
        }
      ],
      "metadata": {}
    },
    {
      "cell_type": "code",
      "execution_count": 17,
      "source": [
        "# mostrando a performance do classificador\n",
        "sum(test.RELEVÂNCIA == test.Classificador) / test.shape[0]"
      ],
      "outputs": [
        {
          "output_type": "execute_result",
          "data": {
            "text/plain": [
              "0.32"
            ]
          },
          "metadata": {},
          "execution_count": 17
        }
      ],
      "metadata": {}
    },
    {
      "cell_type": "code",
      "execution_count": 18,
      "source": [
        "# criando um crosstab, contendo a taxa de acerto do teste por relevância\n",
        "test['Acertos'] = test.Classificador == test.RELEVÂNCIA\n",
        "pd.crosstab(test.Acertos, test.RELEVÂNCIA, normalize='columns')"
      ],
      "outputs": [
        {
          "output_type": "execute_result",
          "data": {
            "text/html": [
              "<div>\n",
              "<style scoped>\n",
              "    .dataframe tbody tr th:only-of-type {\n",
              "        vertical-align: middle;\n",
              "    }\n",
              "\n",
              "    .dataframe tbody tr th {\n",
              "        vertical-align: top;\n",
              "    }\n",
              "\n",
              "    .dataframe thead th {\n",
              "        text-align: right;\n",
              "    }\n",
              "</style>\n",
              "<table border=\"1\" class=\"dataframe\">\n",
              "  <thead>\n",
              "    <tr style=\"text-align: right;\">\n",
              "      <th>RELEVÂNCIA</th>\n",
              "      <th>muito irrelevante</th>\n",
              "      <th>irrelevante</th>\n",
              "      <th>neutro</th>\n",
              "      <th>relevante</th>\n",
              "      <th>muito relevante</th>\n",
              "    </tr>\n",
              "    <tr>\n",
              "      <th>Acertos</th>\n",
              "      <th></th>\n",
              "      <th></th>\n",
              "      <th></th>\n",
              "      <th></th>\n",
              "      <th></th>\n",
              "    </tr>\n",
              "  </thead>\n",
              "  <tbody>\n",
              "    <tr>\n",
              "      <th>False</th>\n",
              "      <td>0.55814</td>\n",
              "      <td>0.842105</td>\n",
              "      <td>0.6</td>\n",
              "      <td>0.953125</td>\n",
              "      <td>0.515625</td>\n",
              "    </tr>\n",
              "    <tr>\n",
              "      <th>True</th>\n",
              "      <td>0.44186</td>\n",
              "      <td>0.157895</td>\n",
              "      <td>0.4</td>\n",
              "      <td>0.046875</td>\n",
              "      <td>0.484375</td>\n",
              "    </tr>\n",
              "  </tbody>\n",
              "</table>\n",
              "</div>"
            ],
            "text/plain": [
              "RELEVÂNCIA  muito irrelevante  irrelevante  neutro  relevante  muito relevante\n",
              "Acertos                                                                       \n",
              "False                 0.55814     0.842105     0.6   0.953125         0.515625\n",
              "True                  0.44186     0.157895     0.4   0.046875         0.484375"
            ]
          },
          "metadata": {},
          "execution_count": 18
        }
      ],
      "metadata": {
        "id": "YCQt0aFxS5an",
        "outputId": "acf4fa27-7e46-409a-a0a0-9d9f682b49ec",
        "colab": {
          "base_uri": "https://localhost:8080/",
          "height": 141
        }
      }
    },
    {
      "cell_type": "code",
      "execution_count": 19,
      "source": [
        "# criando um crosstab para avaliar a correspondência de relevância\n",
        "pd.crosstab(test.Classificador, test.RELEVÂNCIA)"
      ],
      "outputs": [
        {
          "output_type": "execute_result",
          "data": {
            "text/html": [
              "<div>\n",
              "<style scoped>\n",
              "    .dataframe tbody tr th:only-of-type {\n",
              "        vertical-align: middle;\n",
              "    }\n",
              "\n",
              "    .dataframe tbody tr th {\n",
              "        vertical-align: top;\n",
              "    }\n",
              "\n",
              "    .dataframe thead th {\n",
              "        text-align: right;\n",
              "    }\n",
              "</style>\n",
              "<table border=\"1\" class=\"dataframe\">\n",
              "  <thead>\n",
              "    <tr style=\"text-align: right;\">\n",
              "      <th>RELEVÂNCIA</th>\n",
              "      <th>muito irrelevante</th>\n",
              "      <th>irrelevante</th>\n",
              "      <th>neutro</th>\n",
              "      <th>relevante</th>\n",
              "      <th>muito relevante</th>\n",
              "    </tr>\n",
              "    <tr>\n",
              "      <th>Classificador</th>\n",
              "      <th></th>\n",
              "      <th></th>\n",
              "      <th></th>\n",
              "      <th></th>\n",
              "      <th></th>\n",
              "    </tr>\n",
              "  </thead>\n",
              "  <tbody>\n",
              "    <tr>\n",
              "      <th>muito irrelevante</th>\n",
              "      <td>19</td>\n",
              "      <td>7</td>\n",
              "      <td>21</td>\n",
              "      <td>25</td>\n",
              "      <td>14</td>\n",
              "    </tr>\n",
              "    <tr>\n",
              "      <th>irrelevante</th>\n",
              "      <td>2</td>\n",
              "      <td>3</td>\n",
              "      <td>0</td>\n",
              "      <td>0</td>\n",
              "      <td>1</td>\n",
              "    </tr>\n",
              "    <tr>\n",
              "      <th>neutro</th>\n",
              "      <td>6</td>\n",
              "      <td>5</td>\n",
              "      <td>24</td>\n",
              "      <td>14</td>\n",
              "      <td>11</td>\n",
              "    </tr>\n",
              "    <tr>\n",
              "      <th>relevante</th>\n",
              "      <td>1</td>\n",
              "      <td>0</td>\n",
              "      <td>0</td>\n",
              "      <td>3</td>\n",
              "      <td>7</td>\n",
              "    </tr>\n",
              "    <tr>\n",
              "      <th>muito relevante</th>\n",
              "      <td>15</td>\n",
              "      <td>4</td>\n",
              "      <td>15</td>\n",
              "      <td>22</td>\n",
              "      <td>31</td>\n",
              "    </tr>\n",
              "  </tbody>\n",
              "</table>\n",
              "</div>"
            ],
            "text/plain": [
              "RELEVÂNCIA         muito irrelevante  irrelevante  neutro  relevante  \\\n",
              "Classificador                                                          \n",
              "muito irrelevante                 19            7      21         25   \n",
              "irrelevante                        2            3       0          0   \n",
              "neutro                             6            5      24         14   \n",
              "relevante                          1            0       0          3   \n",
              "muito relevante                   15            4      15         22   \n",
              "\n",
              "RELEVÂNCIA         muito relevante  \n",
              "Classificador                       \n",
              "muito irrelevante               14  \n",
              "irrelevante                      1  \n",
              "neutro                          11  \n",
              "relevante                        7  \n",
              "muito relevante                 31  "
            ]
          },
          "metadata": {},
          "execution_count": 19
        }
      ],
      "metadata": {
        "id": "PeqZ8y0XS5ao"
      }
    },
    {
      "cell_type": "markdown",
      "source": [
        "# Entendendo melhor o conceito do classificador Naive-Bayes\n"
      ],
      "metadata": {}
    },
    {
      "cell_type": "markdown",
      "source": [
        "O classificador não pode ser utilizar ele mesmo para gerar mais tweets para classificar, pois ele ficaria enviesado, por não serem geradas novas amostras, com novas palavras, mas sim amostras reutilizando a mesma gama de palavras."
      ],
      "metadata": {}
    },
    {
      "cell_type": "markdown",
      "source": [
        "---\n",
        "\n",
        "### Qualidade do Classificador a partir de novas separações dos tweets entre Treinamento e Teste\n"
      ],
      "metadata": {
        "id": "FejWaux3S5ar"
      }
    },
    {
      "cell_type": "markdown",
      "source": [
        "# Novas iterações\n",
        "Decidiu-se implementar uma randomização na separação dos tweets entre Treinamento e Teste, com a acurácia de 100 repetições. **Segue abaixo.**"
      ],
      "metadata": {}
    },
    {
      "cell_type": "code",
      "execution_count": 20,
      "source": [
        "# juntando ambos dataframes, Treinamento e Teste\n",
        "df_complete = pd.DataFrame({\n",
        "    'Tweets': train.Treinamento.append(test.Teste, ignore_index=True),\n",
        "    'Relevancia': train.RELEVÂNCIA.append(test.RELEVÂNCIA, ignore_index= True),\n",
        "})\n",
        "df_complete.head()"
      ],
      "outputs": [
        {
          "output_type": "execute_result",
          "data": {
            "text/html": [
              "<div>\n",
              "<style scoped>\n",
              "    .dataframe tbody tr th:only-of-type {\n",
              "        vertical-align: middle;\n",
              "    }\n",
              "\n",
              "    .dataframe tbody tr th {\n",
              "        vertical-align: top;\n",
              "    }\n",
              "\n",
              "    .dataframe thead th {\n",
              "        text-align: right;\n",
              "    }\n",
              "</style>\n",
              "<table border=\"1\" class=\"dataframe\">\n",
              "  <thead>\n",
              "    <tr style=\"text-align: right;\">\n",
              "      <th></th>\n",
              "      <th>Tweets</th>\n",
              "      <th>Relevancia</th>\n",
              "    </tr>\n",
              "  </thead>\n",
              "  <tbody>\n",
              "    <tr>\n",
              "      <th>0</th>\n",
              "      <td>[peg, meu, iphon, pro, max, g, lig, pra, minh,...</td>\n",
              "      <td>muito irrelevante</td>\n",
              "    </tr>\n",
              "    <tr>\n",
              "      <th>1</th>\n",
              "      <td>[ai, fic, tao, mais, bonit, no, iphon, q, dor, 💔]</td>\n",
              "      <td>muito relevante</td>\n",
              "    </tr>\n",
              "    <tr>\n",
              "      <th>2</th>\n",
              "      <td>[mas, tamb, qu, compr, iphon, em, tem, mais, q...</td>\n",
              "      <td>muito relevante</td>\n",
              "    </tr>\n",
              "    <tr>\n",
              "      <th>3</th>\n",
              "      <td>[feliz, pra, crl, peg, meu, iphon, agr, 😅]</td>\n",
              "      <td>muito relevante</td>\n",
              "    </tr>\n",
              "    <tr>\n",
              "      <th>4</th>\n",
              "      <td>[vc, tem, iphon]</td>\n",
              "      <td>muito irrelevante</td>\n",
              "    </tr>\n",
              "  </tbody>\n",
              "</table>\n",
              "</div>"
            ],
            "text/plain": [
              "                                              Tweets         Relevancia\n",
              "0  [peg, meu, iphon, pro, max, g, lig, pra, minh,...  muito irrelevante\n",
              "1  [ai, fic, tao, mais, bonit, no, iphon, q, dor, 💔]    muito relevante\n",
              "2  [mas, tamb, qu, compr, iphon, em, tem, mais, q...    muito relevante\n",
              "3         [feliz, pra, crl, peg, meu, iphon, agr, 😅]    muito relevante\n",
              "4                                   [vc, tem, iphon]  muito irrelevante"
            ]
          },
          "metadata": {},
          "execution_count": 20
        }
      ],
      "metadata": {}
    },
    {
      "cell_type": "code",
      "execution_count": 21,
      "source": [
        "# recriando as categorias classificativas\n",
        "\n",
        "new_relevancia = []\n",
        "for r in df_complete.Relevancia:\n",
        "    if r == \"muito irrelevante\":\n",
        "        r = \"irrelevante\"\n",
        "    if r == \"muito relevante\":\n",
        "        r = \"relevante\"\n",
        "    new_relevancia.append(r)\n",
        "df_complete[\"Relevancia\"] = new_relevancia\n",
        "df_complete.head()"
      ],
      "outputs": [
        {
          "output_type": "execute_result",
          "data": {
            "text/html": [
              "<div>\n",
              "<style scoped>\n",
              "    .dataframe tbody tr th:only-of-type {\n",
              "        vertical-align: middle;\n",
              "    }\n",
              "\n",
              "    .dataframe tbody tr th {\n",
              "        vertical-align: top;\n",
              "    }\n",
              "\n",
              "    .dataframe thead th {\n",
              "        text-align: right;\n",
              "    }\n",
              "</style>\n",
              "<table border=\"1\" class=\"dataframe\">\n",
              "  <thead>\n",
              "    <tr style=\"text-align: right;\">\n",
              "      <th></th>\n",
              "      <th>Tweets</th>\n",
              "      <th>Relevancia</th>\n",
              "    </tr>\n",
              "  </thead>\n",
              "  <tbody>\n",
              "    <tr>\n",
              "      <th>0</th>\n",
              "      <td>[peg, meu, iphon, pro, max, g, lig, pra, minh,...</td>\n",
              "      <td>irrelevante</td>\n",
              "    </tr>\n",
              "    <tr>\n",
              "      <th>1</th>\n",
              "      <td>[ai, fic, tao, mais, bonit, no, iphon, q, dor, 💔]</td>\n",
              "      <td>relevante</td>\n",
              "    </tr>\n",
              "    <tr>\n",
              "      <th>2</th>\n",
              "      <td>[mas, tamb, qu, compr, iphon, em, tem, mais, q...</td>\n",
              "      <td>relevante</td>\n",
              "    </tr>\n",
              "    <tr>\n",
              "      <th>3</th>\n",
              "      <td>[feliz, pra, crl, peg, meu, iphon, agr, 😅]</td>\n",
              "      <td>relevante</td>\n",
              "    </tr>\n",
              "    <tr>\n",
              "      <th>4</th>\n",
              "      <td>[vc, tem, iphon]</td>\n",
              "      <td>irrelevante</td>\n",
              "    </tr>\n",
              "  </tbody>\n",
              "</table>\n",
              "</div>"
            ],
            "text/plain": [
              "                                              Tweets   Relevancia\n",
              "0  [peg, meu, iphon, pro, max, g, lig, pra, minh,...  irrelevante\n",
              "1  [ai, fic, tao, mais, bonit, no, iphon, q, dor, 💔]    relevante\n",
              "2  [mas, tamb, qu, compr, iphon, em, tem, mais, q...    relevante\n",
              "3         [feliz, pra, crl, peg, meu, iphon, agr, 😅]    relevante\n",
              "4                                   [vc, tem, iphon]  irrelevante"
            ]
          },
          "metadata": {},
          "execution_count": 21
        }
      ],
      "metadata": {}
    },
    {
      "cell_type": "code",
      "execution_count": 22,
      "source": [
        "# construindo a lista de categorias\n",
        "categorias = ['irrelevante','neutro', 'relevante']\n",
        "\n",
        "# lista da performance do classificador\n",
        "performances = []\n",
        "\n",
        "# fazendo o teste de performance 100 vezes\n",
        "for _ in range(100):\n",
        "    # randomizando tweets\n",
        "    df_complete = df_complete.sample(frac=1).reset_index(drop=True)\n",
        "    train = df_complete.iloc[:750]\n",
        "    test = df_complete.iloc[750:1000]\n",
        "\n",
        "    # número de palavras/emojis presentes em toda a base de dados\n",
        "    total_de_palavras = sum(train.Tweets, [])\n",
        "    # número de palavras/emojis únicos presentes em toda a base de dados\n",
        "    palavras_unicas = set(total_de_palavras)\n",
        "\n",
        "    # lista de palavras por categoria\n",
        "    palavras_por_categoria = {\n",
        "        categoria: sum(train[train.Relevancia == categoria].Tweets, [])\n",
        "        for categoria in categorias\n",
        "    }\n",
        "\n",
        "    # número de ocorrências de palavra por categoria\n",
        "    ocorrencia_de_palavras_por_categoria =  {\n",
        "        categoria: {\n",
        "            palavra: palavras_por_categoria[categoria].count(palavra)\n",
        "            for palavra in palavras_unicas\n",
        "        }\n",
        "        for categoria in categorias\n",
        "    }\n",
        "\n",
        "    # probabalidade por categoria\n",
        "    prob_por_categoria = {\n",
        "        categoria: len(palavras_por_categoria[categoria]) / len(total_de_palavras)\n",
        "        for categoria in categorias\n",
        "    }\n",
        "\n",
        "\n",
        "    def prob_frase(categoria, frase):\n",
        "        '''\n",
        "        Calcula a probabilidade de frase estar em categoria\n",
        "        '''\n",
        "        # limpeza de frase caso forneciada no formato de str\n",
        "        if frase is str:\n",
        "            frase = clean_data(frase)\n",
        "        \n",
        "        # cálculo da probabilidade\n",
        "        return prob_por_categoria[categoria] * np.array(list(\n",
        "            # probabilidade de cada palavra com suavização de laplace\n",
        "            (((ocorrencia_de_palavras_por_categoria[categoria][palavra] + 1)\n",
        "            if palavra in palavras_unicas else 1) /\n",
        "            (len(palavras_por_categoria[categoria]) + len(palavras_unicas)))\n",
        "            for palavra in frase\n",
        "        )).prod()  # produto da probabilidade de cada palavra\n",
        "\n",
        "\n",
        "    def classificador(frase):\n",
        "        '''\n",
        "        Retorna a categoria com a maior probabilidade de conter frase\n",
        "        '''\n",
        "        return max(\n",
        "            categorias, key=lambda categoria: prob_frase(categoria, frase)\n",
        "        )\n",
        "\n",
        "\n",
        "    acertos = sum(test.Tweets.apply(classificador) == test.Relevancia)\n",
        "    performance = acertos / test.shape[0]\n",
        "    performances.append(performance)\n"
      ],
      "outputs": [],
      "metadata": {}
    },
    {
      "cell_type": "code",
      "execution_count": 23,
      "source": [
        "# plotando o histograma referente aos 100 testes\n",
        "plt.hist(performances, edgecolor='white', density=True)\n",
        "plt.title('Histograma das performances obtidas ao montar 100 classificadores')\n",
        "plt.ylabel('Densidade')\n",
        "plt.xlabel('Performances')\n",
        "plt.show()"
      ],
      "outputs": [
        {
          "output_type": "display_data",
          "data": {
            "image/png": "[encoded data removed]",
            "text/plain": [
              "<Figure size 432x288 with 1 Axes>"
            ]
          },
          "metadata": {
            "needs_background": "light"
          }
        }
      ],
      "metadata": {}
    },
    {
      "cell_type": "code",
      "execution_count": 24,
      "source": [
        "# obtendo algumas informações importantes para análise dos 100 testes, que corroboram com o histograma acima\n",
        "pd.Series(performances).describe()"
      ],
      "outputs": [
        {
          "output_type": "execute_result",
          "data": {
            "text/plain": [
              "count    100.000000\n",
              "mean       0.426320\n",
              "std        0.023947\n",
              "min        0.344000\n",
              "25%        0.415000\n",
              "50%        0.424000\n",
              "75%        0.444000\n",
              "max        0.492000\n",
              "dtype: float64"
            ]
          },
          "metadata": {},
          "execution_count": 24
        }
      ],
      "metadata": {}
    },
    {
      "cell_type": "markdown",
      "source": [
        "<p>\n",
        "<hr></hr>\n",
        "</p>\n",
        "\n",
        "# CONCLUSÃO\n",
        "<p>\n",
        "<hr></hr>\n",
        "</p>\n",
        "\n",
        "## Interpretando a melhor forma de montar o classificador\n",
        "Com base no gráfico supracitado e nas informações de performance obtidas ao longo deste notebook, pode-se inferir que este método, de sorteamento e múltiplos testes, ajuda a AUMENTAR a performance do classificador Naive-Bayes, já que ajuda a reduzir o viés, e aumenta a área de testes.\n",
        "\n",
        "\n",
        "## Diferentes cenários para o classificador fora do contexto do projeto\n",
        "Baseando-se no que foi apresentado neste notebook, é possível afirmar que as aplicações do classificador Naive-Bayes são muito amplas e relevantes, já que, por exemplo, uma empresa pode contratar um serviço que utilize este classificador para avaliar como está indo o desempenho de um produto ou campanha publicitária. Além disso, esse classificador pode encontrar espaços também em algoritmos de engajamento das redes sociais, como citado no BlogPost do influencer [Fabio Akita](#ref) (vide referências). Também vale citar as diversas aplicações possíveis na área da saúde, como inspeção de teste de doenças, calculando a probabilidade de serem falsos positivos ou falsos negativos, ciência comportamental, doenças mentais, como o Alzheimer, e o estudo de transtornos de personalidade, bem como para o famoso filtro de spans nas caixas de email, como é explicado também pelo influencer [Akita](#ref).\n",
        "\n",
        "## Melhorias reais para o classificador Naive-Bayes\n",
        "Ao longo do projeto, foi possível observar que o classifocador possui algumas falhas, como no caso do tweet ser irônico ou possuir uma negação dupla, o que pode levar o classificador a classificar incorretamente o tweet. Além disso, também deve-se notar que para melhorar a acurácia do classificador, deve-se também expandir a quantidade de tweets classificados, tanto \"na mão\", quanto pelo treinamento, afim de minimizar os possíveis erros e inconsistências inerentes ao processo de separação de tweets. Por fim, cabe citar também a necessidade da implementação do método de Monte Carlo, que consiste em gerar números aleatório entre 0 e 1, e caso o número seja menor que a probabilidade de dado tweet ser relevante, o tweet será classificado como relevante, e vice-versa, e lembrando que este método será consideravelmente mais eficaz a medida que a base de dados aumentar."
      ],
      "metadata": {}
    },
    {
      "cell_type": "markdown",
      "source": [
        "---\n",
        "\n",
        "## Aperfeiçoamento:\n",
        "\n",
        "Trabalhos que conseguirem pelo menos conceito B vão evoluir em conceito dependendo da quantidade de itens avançados:\n",
        "\n",
        "\n",
        "(√) IMPLEMENTOU outras limpezas e transformações que não afetem a qualidade da informação contida nos tweets. Ex: stemming, lemmatization, stopwords\n",
        "\n",
        "(√) CORRIGIU separação de espaços entre palavras e emojis ou entre emojis e emojis\n",
        "\n",
        "(√) CRIOU categorias intermediárias de relevância baseadas na probabilidade: ex.: muito relevante, relevante, neutro, irrelevante, muito irrelevante. Pelo menos quatro categorias, com adição de mais tweets na base, conforme enunciado. (OBRIGATÓRIO PARA TRIOS, sem contar como item avançado)\n",
        "\n",
        "(√) EXPLICOU porquê não pode usar o próprio classificador para gerar mais amostras de treinamento\n",
        "\n",
        "(√) PROPÔS diferentes cenários para Naïve Bayes fora do contexto do projeto\n",
        "\n",
        "(√) SUGERIU e EXPLICOU melhorias reais com indicações concretas de como implementar (indicar como fazer e indicar material de pesquisa)\n",
        "\n",
        "(√) FEZ o item 6. Qualidade do Classificador a partir de novas separações dos tweets entre Treinamento e Teste descrito no enunciado do projeto (OBRIGATÓRIO para conceitos A ou A+)\n"
      ],
      "metadata": {
        "id": "KNN-SzU5S5at"
      }
    },
    {
      "cell_type": "markdown",
      "source": [
        "---\n",
        "\n",
        "<div id=\"ref\"></div>\n",
        "\n",
        "# Referências\n",
        "\n",
        "<a href=\"https://arxiv.org/pdf/1410.5329.pdf\">Naive Bayes and Text Classification</a><br> **Mais completo**\n",
        "\n",
        "\n",
        "<a href=\"https://monkeylearn.com/blog/practical-explanation-naive-bayes-classifier/\">A practical explanation of a Naive Bayes Classifier</a><br> **Mais simples**\n",
        "\n",
        "\n",
        "<a href=\"https://www.akitaonrails.com/2020/09/30/akitando-84-entendendo-o-dilema-social-e-como-voce-e-manipulado\">Blog post sobre aplicações do teorema Bayesiano por Fabio Akita</a><br>\n",
        "\n",
        "\n",
        "<a href=\"https://www.youtube.com/watch?v=HZGCoVF3YvM\">3Blue1Brown: Bayes Theorem</a><br>\n",
        "\n",
        "\n",
        "<a href=\"https://www.youtube.com/watch?v=R13BD8qKeTg\">Veritasium: The Bayesian Trap</a><br>\n"
      ],
      "metadata": {
        "id": "q0Y_1D2QS5au"
      }
    }
  ]
}