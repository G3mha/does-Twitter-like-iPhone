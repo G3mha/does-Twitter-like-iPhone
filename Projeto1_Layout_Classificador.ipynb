{
  "nbformat": 4,
  "nbformat_minor": 0,
  "metadata": {
    "kernelspec": {
      "name": "python3",
      "display_name": "Python 3.8.8 64-bit ('base': conda)"
    },
    "language_info": {
      "codemirror_mode": {
        "name": "ipython",
        "version": 3
      },
      "file_extension": ".py",
      "mimetype": "text/x-python",
      "name": "python",
      "nbconvert_exporter": "python",
      "pygments_lexer": "ipython3",
      "version": "3.8.8"
    },
    "interpreter": {
      "hash": "e9fd6c6be56567dc879efe7db14b5e3ce588c472dd9c12b78c63f32e96bcc071"
    },
    "colab": {
      "name": "Projeto1_Layout_Classificador.ipynb",
      "provenance": []
    }
  },
  "cells": [
    {
      "cell_type": "markdown",
      "metadata": {
        "id": "V2XTA7geS5Yw"
      },
      "source": [
        "# Projeto 1 - Ciência dos Dados"
      ]
    },
    {
      "cell_type": "markdown",
      "metadata": {
        "id": "JBhxFDZOS5Y4"
      },
      "source": [
        "Nome: Enricco Gemha\n",
        "\n",
        "Nome: Marcelo Rabello Barranco\n",
        "\n",
        "Nome: Rafael Coca Leventhal"
      ]
    },
    {
      "cell_type": "markdown",
      "metadata": {
        "id": "CVBlQguES5Y6"
      },
      "source": [
        "Atenção: Serão permitidos grupos de três pessoas, mas com uma rubrica mais exigente. Grupos deste tamanho precisarão fazer um questionário de avaliação de trabalho em equipe"
      ]
    },
    {
      "cell_type": "markdown",
      "metadata": {
        "id": "R_wmY84fS5Y7"
      },
      "source": [
        "___\n",
        "Carregando algumas bibliotecas:"
      ]
    },
    {
      "cell_type": "code",
      "metadata": {
        "id": "fVH7780HS5ZC",
        "outputId": "a852d266-532d-481b-ef2b-fcc1b1bc79a5",
        "colab": {
          "base_uri": "https://localhost:8080/"
        }
      },
      "source": [
        "import pandas as pd\n",
        "import matplotlib.pyplot as plt\n",
        "import numpy as np\n",
        "import os\n",
        "import re\n",
        "import nltk\n",
        "\n",
        "nltk.download('rslp');\n",
        "nltk.download('stopwords');"
      ],
      "execution_count": 1,
      "outputs": [
        {
          "output_type": "stream",
          "name": "stdout",
          "text": [
            "[nltk_data] Downloading package rslp to /root/nltk_data...\n",
            "[nltk_data]   Package rslp is already up-to-date!\n",
            "[nltk_data] Downloading package stopwords to /root/nltk_data...\n",
            "[nltk_data]   Package stopwords is already up-to-date!\n"
          ]
        }
      ]
    },
    {
      "cell_type": "code",
      "metadata": {
        "scrolled": false,
        "id": "0UeYWJMUS5ZD",
        "outputId": "0fcb60f8-437b-44a5-d368-22ca80e5b0c1",
        "colab": {
          "base_uri": "https://localhost:8080/"
        }
      },
      "source": [
        "print('Esperamos trabalhar no diretório')\n",
        "print(os.getcwd())"
      ],
      "execution_count": 2,
      "outputs": [
        {
          "output_type": "stream",
          "name": "stdout",
          "text": [
            "Esperamos trabalhar no diretório\n",
            "/content\n"
          ]
        }
      ]
    },
    {
      "cell_type": "markdown",
      "metadata": {
        "id": "bPeNbqKCS5Z4"
      },
      "source": [
        "Carregando a base de dados com os tweets classificados como relevantes e não relevantes:"
      ]
    },
    {
      "cell_type": "code",
      "metadata": {
        "id": "-hx1Xr__S5Z6"
      },
      "source": [
        "filename = 'iphone.xlsx'"
      ],
      "execution_count": 3,
      "outputs": []
    },
    {
      "cell_type": "code",
      "metadata": {
        "id": "_mvtX4-tS5Z8",
        "outputId": "fbf23c37-d0d3-48a1-99eb-7195a380a8f5",
        "colab": {
          "base_uri": "https://localhost:8080/",
          "height": 414
        }
      },
      "source": [
        "train = pd.read_excel(filename)\n",
        "train"
      ],
      "execution_count": 4,
      "outputs": [
        {
          "output_type": "execute_result",
          "data": {
            "text/html": [
              "<div>\n",
              "<style scoped>\n",
              "    .dataframe tbody tr th:only-of-type {\n",
              "        vertical-align: middle;\n",
              "    }\n",
              "\n",
              "    .dataframe tbody tr th {\n",
              "        vertical-align: top;\n",
              "    }\n",
              "\n",
              "    .dataframe thead th {\n",
              "        text-align: right;\n",
              "    }\n",
              "</style>\n",
              "<table border=\"1\" class=\"dataframe\">\n",
              "  <thead>\n",
              "    <tr style=\"text-align: right;\">\n",
              "      <th></th>\n",
              "      <th>Treinamento</th>\n",
              "      <th>RELEVÂNCIA</th>\n",
              "    </tr>\n",
              "  </thead>\n",
              "  <tbody>\n",
              "    <tr>\n",
              "      <th>0</th>\n",
              "      <td>- pego meu iphone 15 pro max 6g\\n- ligo pra mi...</td>\n",
              "      <td>0</td>\n",
              "    </tr>\n",
              "    <tr>\n",
              "      <th>1</th>\n",
              "      <td>@venusbillie ai fica tao mais bonito no iphone...</td>\n",
              "      <td>4</td>\n",
              "    </tr>\n",
              "    <tr>\n",
              "      <th>2</th>\n",
              "      <td>mas tambem quem compra iphone 6 em 2021 tem ma...</td>\n",
              "      <td>4</td>\n",
              "    </tr>\n",
              "    <tr>\n",
              "      <th>3</th>\n",
              "      <td>feliz pra crl , pegar meu iphone agr 😅</td>\n",
              "      <td>4</td>\n",
              "    </tr>\n",
              "    <tr>\n",
              "      <th>4</th>\n",
              "      <td>@tatielly_keys vc tem iphone?</td>\n",
              "      <td>0</td>\n",
              "    </tr>\n",
              "    <tr>\n",
              "      <th>...</th>\n",
              "      <td>...</td>\n",
              "      <td>...</td>\n",
              "    </tr>\n",
              "    <tr>\n",
              "      <th>745</th>\n",
              "      <td>minha mãe quer comprar o iphone 12 pra ela e n...</td>\n",
              "      <td>4</td>\n",
              "    </tr>\n",
              "    <tr>\n",
              "      <th>746</th>\n",
              "      <td>nunca precisei mexer no meu iphone se antigo p...</td>\n",
              "      <td>0</td>\n",
              "    </tr>\n",
              "    <tr>\n",
              "      <th>747</th>\n",
              "      <td>era só um carregador de iphone 😪</td>\n",
              "      <td>0</td>\n",
              "    </tr>\n",
              "    <tr>\n",
              "      <th>748</th>\n",
              "      <td>tô doida com essa película privacidadeee, vi o...</td>\n",
              "      <td>3</td>\n",
              "    </tr>\n",
              "    <tr>\n",
              "      <th>749</th>\n",
              "      <td>iphone 13 anunciando dia 14🤡</td>\n",
              "      <td>4</td>\n",
              "    </tr>\n",
              "  </tbody>\n",
              "</table>\n",
              "<p>750 rows × 2 columns</p>\n",
              "</div>"
            ],
            "text/plain": [
              "                                           Treinamento  RELEVÂNCIA\n",
              "0    - pego meu iphone 15 pro max 6g\\n- ligo pra mi...           0\n",
              "1    @venusbillie ai fica tao mais bonito no iphone...           4\n",
              "2    mas tambem quem compra iphone 6 em 2021 tem ma...           4\n",
              "3               feliz pra crl , pegar meu iphone agr 😅           4\n",
              "4                        @tatielly_keys vc tem iphone?           0\n",
              "..                                                 ...         ...\n",
              "745  minha mãe quer comprar o iphone 12 pra ela e n...           4\n",
              "746  nunca precisei mexer no meu iphone se antigo p...           0\n",
              "747                   era só um carregador de iphone 😪           0\n",
              "748  tô doida com essa película privacidadeee, vi o...           3\n",
              "749                       iphone 13 anunciando dia 14🤡           4\n",
              "\n",
              "[750 rows x 2 columns]"
            ]
          },
          "metadata": {},
          "execution_count": 4
        }
      ]
    },
    {
      "cell_type": "code",
      "metadata": {
        "id": "cjEBtlhQS5Z-",
        "outputId": "583c937a-0b6b-4f6e-a7d8-c704f99650f8",
        "colab": {
          "base_uri": "https://localhost:8080/",
          "height": 202
        }
      },
      "source": [
        "test = pd.read_excel(filename, sheet_name='Teste')\n",
        "test.head(5)"
      ],
      "execution_count": 5,
      "outputs": [
        {
          "output_type": "execute_result",
          "data": {
            "text/html": [
              "<div>\n",
              "<style scoped>\n",
              "    .dataframe tbody tr th:only-of-type {\n",
              "        vertical-align: middle;\n",
              "    }\n",
              "\n",
              "    .dataframe tbody tr th {\n",
              "        vertical-align: top;\n",
              "    }\n",
              "\n",
              "    .dataframe thead th {\n",
              "        text-align: right;\n",
              "    }\n",
              "</style>\n",
              "<table border=\"1\" class=\"dataframe\">\n",
              "  <thead>\n",
              "    <tr style=\"text-align: right;\">\n",
              "      <th></th>\n",
              "      <th>Teste</th>\n",
              "      <th>RELEVÂNCIA</th>\n",
              "    </tr>\n",
              "  </thead>\n",
              "  <tbody>\n",
              "    <tr>\n",
              "      <th>0</th>\n",
              "      <td>minha mãe podia me dá um iphone só de pena no ...</td>\n",
              "      <td>4</td>\n",
              "    </tr>\n",
              "    <tr>\n",
              "      <th>1</th>\n",
              "      <td>qria fazer a trend da tv alem de ser pequena n...</td>\n",
              "      <td>4</td>\n",
              "    </tr>\n",
              "    <tr>\n",
              "      <th>2</th>\n",
              "      <td>papo de q o whatsapp de quem tem iphone vai pa...</td>\n",
              "      <td>3</td>\n",
              "    </tr>\n",
              "    <tr>\n",
              "      <th>3</th>\n",
              "      <td>iphone 13 vai esperar mais um pouco pq a gata ...</td>\n",
              "      <td>4</td>\n",
              "    </tr>\n",
              "    <tr>\n",
              "      <th>4</th>\n",
              "      <td>alguém sabe se quando quebra a tela do iphone ...</td>\n",
              "      <td>3</td>\n",
              "    </tr>\n",
              "  </tbody>\n",
              "</table>\n",
              "</div>"
            ],
            "text/plain": [
              "                                               Teste  RELEVÂNCIA\n",
              "0  minha mãe podia me dá um iphone só de pena no ...           4\n",
              "1  qria fazer a trend da tv alem de ser pequena n...           4\n",
              "2  papo de q o whatsapp de quem tem iphone vai pa...           3\n",
              "3  iphone 13 vai esperar mais um pouco pq a gata ...           4\n",
              "4  alguém sabe se quando quebra a tela do iphone ...           3"
            ]
          },
          "metadata": {},
          "execution_count": 5
        }
      ]
    },
    {
      "cell_type": "markdown",
      "metadata": {
        "id": "sl0W5enaS5aG"
      },
      "source": [
        "___\n",
        "## Classificador automático de sentimento\n"
      ]
    },
    {
      "cell_type": "markdown",
      "metadata": {
        "id": "1WGIer6xS5aH"
      },
      "source": [
        "Faça aqui uma descrição do seu produto e o que considerou como relevante ou não relevante na classificação dos tweets.\n",
        "\n",
        "Produto: iPhone (dispensa descrições)\n",
        "\n",
        "* MUITO IRRELEVANTE: falando de outro assunto, não envolve o iPhone, pessoas que não sabem tweetar ou se comunicar (Ex: só colocou uma hashtag)\n",
        "* IRRELEVANTE: anúncios de venda (EX: venha comprar no magalu)\n",
        "* NEUTRO: piada sobre o iPhone (EX: iPhone é o Corsa em miniatura kkkkkk)\n",
        "* RELEVANTE: comentário indireto relacionado ao iPhone (EX: meu professor de ciências passou 30 minutos só falando do novo iPhone dele)\n",
        "* MUITO RELEVANTE: falando objetivamente do iPhone, tipo opinião, dúvida ou desejo de comprar (EX: iPhone 13 vai esperar um pouco para chegar em minhas mãos)\n",
        "\n",
        "- MUITO IRRELEVANTE = 0\n",
        "- IRRELEVANTE = 1\n",
        "- NEUTRO = 2\n",
        "- RELEVANTE = 3\n",
        "- MUITO RELEVANTE = 4"
      ]
    },
    {
      "cell_type": "markdown",
      "metadata": {
        "id": "hiqt4KqjS5aK"
      },
      "source": [
        "___\n",
        "### Montando um Classificador Naive-Bayes\n",
        "\n",
        "Considerando apenas as mensagens da planilha Treinamento, ensine  seu classificador."
      ]
    },
    {
      "cell_type": "code",
      "metadata": {
        "id": "SWg43YgpS5aN"
      },
      "source": [
        "def clean_data(text):\n",
        "    # removendo sinais de pontuação\n",
        "    text = re.sub(r'[!-.:?;[\\]/]', '', text)\n",
        "\n",
        "    # tokenizing\n",
        "    tokenizer = nltk.tokenize.casual.TweetTokenizer()\n",
        "    text = tokenizer.tokenize(text)\n",
        "\n",
        "    # stemming\n",
        "    stemmer = nltk.stem.RSLPStemmer()\n",
        "    text = map(stemmer.stem, text)\n",
        "\n",
        "    # removendo stop words\n",
        "    stop_words = nltk.corpus.stopwords.words('portuguese')\n",
        "    text = [w for w in text if w not in stop_words]\n",
        "\n",
        "    return text\n"
      ],
      "execution_count": 6,
      "outputs": []
    },
    {
      "cell_type": "code",
      "metadata": {
        "id": "FyP5djm7S5aj",
        "outputId": "af5f13bd-4553-47b3-9823-065dc325a28a",
        "colab": {
          "base_uri": "https://localhost:8080/",
          "height": 414
        }
      },
      "source": [
        "# preparando os dados\n",
        "train.loc[:, 'Treinamento'] = train.Treinamento.apply(clean_data)\n",
        "train.loc[:, 'RELEVÂNCIA'] = train.RELEVÂNCIA.map({0: 'muito irrelevante',\n",
        "                                                   1: 'irrelevante',\n",
        "                                                   2: 'neutro',\n",
        "                                                   3: 'relevante',\n",
        "                                                   4: 'muito relevante'})\n",
        "train"
      ],
      "execution_count": 7,
      "outputs": [
        {
          "output_type": "execute_result",
          "data": {
            "text/html": [
              "<div>\n",
              "<style scoped>\n",
              "    .dataframe tbody tr th:only-of-type {\n",
              "        vertical-align: middle;\n",
              "    }\n",
              "\n",
              "    .dataframe tbody tr th {\n",
              "        vertical-align: top;\n",
              "    }\n",
              "\n",
              "    .dataframe thead th {\n",
              "        text-align: right;\n",
              "    }\n",
              "</style>\n",
              "<table border=\"1\" class=\"dataframe\">\n",
              "  <thead>\n",
              "    <tr style=\"text-align: right;\">\n",
              "      <th></th>\n",
              "      <th>Treinamento</th>\n",
              "      <th>RELEVÂNCIA</th>\n",
              "    </tr>\n",
              "  </thead>\n",
              "  <tbody>\n",
              "    <tr>\n",
              "      <th>0</th>\n",
              "      <td>[peg, iphon, 15, pro, max, 6g, lig, pra, minh,...</td>\n",
              "      <td>muito irrelevante</td>\n",
              "    </tr>\n",
              "    <tr>\n",
              "      <th>1</th>\n",
              "      <td>[@venusbilli, ai, fic, tao, bonit, iphon, q, d...</td>\n",
              "      <td>muito relevante</td>\n",
              "    </tr>\n",
              "    <tr>\n",
              "      <th>2</th>\n",
              "      <td>[tamb, qu, compr, iphon, 6, 2021, fud, mesm, k...</td>\n",
              "      <td>muito relevante</td>\n",
              "    </tr>\n",
              "    <tr>\n",
              "      <th>3</th>\n",
              "      <td>[feliz, pra, crl, peg, iphon, agr, 😅]</td>\n",
              "      <td>muito relevante</td>\n",
              "    </tr>\n",
              "    <tr>\n",
              "      <th>4</th>\n",
              "      <td>[@tatielly_key, vc, iphon]</td>\n",
              "      <td>muito irrelevante</td>\n",
              "    </tr>\n",
              "    <tr>\n",
              "      <th>...</th>\n",
              "      <td>...</td>\n",
              "      <td>...</td>\n",
              "    </tr>\n",
              "    <tr>\n",
              "      <th>745</th>\n",
              "      <td>[minh, mãe, qu, compr, iphon, 12, pra, qu, tro...</td>\n",
              "      <td>muito relevante</td>\n",
              "    </tr>\n",
              "    <tr>\n",
              "      <th>746</th>\n",
              "      <td>[nunc, precis, mex, iphon, antig, pra, nad, ag...</td>\n",
              "      <td>muito irrelevante</td>\n",
              "    </tr>\n",
              "    <tr>\n",
              "      <th>747</th>\n",
              "      <td>[carreg, iphon, 😪]</td>\n",
              "      <td>muito irrelevante</td>\n",
              "    </tr>\n",
              "    <tr>\n",
              "      <th>748</th>\n",
              "      <td>[tô, doid, ess, películ, privacidadee, vi, sto...</td>\n",
              "      <td>relevante</td>\n",
              "    </tr>\n",
              "    <tr>\n",
              "      <th>749</th>\n",
              "      <td>[iphon, 13, anunci, dia, 14, 🤡]</td>\n",
              "      <td>muito relevante</td>\n",
              "    </tr>\n",
              "  </tbody>\n",
              "</table>\n",
              "<p>750 rows × 2 columns</p>\n",
              "</div>"
            ],
            "text/plain": [
              "                                           Treinamento         RELEVÂNCIA\n",
              "0    [peg, iphon, 15, pro, max, 6g, lig, pra, minh,...  muito irrelevante\n",
              "1    [@venusbilli, ai, fic, tao, bonit, iphon, q, d...    muito relevante\n",
              "2    [tamb, qu, compr, iphon, 6, 2021, fud, mesm, k...    muito relevante\n",
              "3                [feliz, pra, crl, peg, iphon, agr, 😅]    muito relevante\n",
              "4                           [@tatielly_key, vc, iphon]  muito irrelevante\n",
              "..                                                 ...                ...\n",
              "745  [minh, mãe, qu, compr, iphon, 12, pra, qu, tro...    muito relevante\n",
              "746  [nunc, precis, mex, iphon, antig, pra, nad, ag...  muito irrelevante\n",
              "747                                 [carreg, iphon, 😪]  muito irrelevante\n",
              "748  [tô, doid, ess, películ, privacidadee, vi, sto...          relevante\n",
              "749                    [iphon, 13, anunci, dia, 14, 🤡]    muito relevante\n",
              "\n",
              "[750 rows x 2 columns]"
            ]
          },
          "metadata": {},
          "execution_count": 7
        }
      ]
    },
    {
      "cell_type": "code",
      "metadata": {
        "id": "4sOpBi-Apnpy",
        "outputId": "bf4efa64-3003-443c-eb28-5868c067f430",
        "colab": {
          "base_uri": "https://localhost:8080/"
        }
      },
      "source": [
        "train.RELEVÂNCIA.describe()"
      ],
      "execution_count": 8,
      "outputs": [
        {
          "output_type": "execute_result",
          "data": {
            "text/plain": [
              "count                   750\n",
              "unique                    5\n",
              "top       muito irrelevante\n",
              "freq                    208\n",
              "Name: RELEVÂNCIA, dtype: object"
            ]
          },
          "metadata": {},
          "execution_count": 8
        }
      ]
    },
    {
      "cell_type": "code",
      "metadata": {
        "id": "5NbtRQJPdAoh"
      },
      "source": [
        "# construindo classificador\n",
        "categorias = ['muito irrelevante', 'irrelevante',\n",
        "              'neutro', 'relevante', 'muito relevante']\n",
        "\n",
        "# número de palavras/emojis únicos presentes em toda a base de dados\n",
        "palavras_unicas = set(sum(train.Treinamento, []))\n",
        "\n",
        "# lista de palavras por categoria\n",
        "palavras_por_categoria = {\n",
        "    categoria: sum(train[train.RELEVÂNCIA == categoria].Treinamento, [])\n",
        "    for categoria in categorias\n",
        "}\n",
        "\n",
        "# número de ocorrências de palavra por categoria\n",
        "ocorrencia_de_palavras_por_categoria =  {\n",
        "    categoria: {\n",
        "        palavra: palavras_por_categoria[categoria].count(palavra)\n",
        "        for palavra in palavras_unicas\n",
        "    }\n",
        "    for categoria in categorias\n",
        "}\n",
        "\n",
        "\n",
        "def prob_frase(categoria, frase):\n",
        "    '''\n",
        "    Calcula a probabilidade de frase estar em categoria\n",
        "    '''\n",
        "    # limpeza de frase caso forneciada no formato de str\n",
        "    if frase is str:\n",
        "        frase = clean_data(frase)\n",
        "    \n",
        "    # cálculo da probabilidade\n",
        "    return np.array(list(\n",
        "        # probabilidade de cada palavra com suavização de laplace\n",
        "        ((ocorrencia_de_palavras_por_categoria[categoria][palavra] + 1) /\n",
        "         (len(palavras_por_categoria[categoria]) + len(palavras_unicas)))\n",
        "        for palavra in frase if palavra in palavras_unicas\n",
        "    )).prod()  # produto da probabilidade de cada palavra\n",
        "\n",
        "\n",
        "def classificador(frase):\n",
        "    '''\n",
        "    Retorna a categoria com a maior probabilidade de conter frase\n",
        "    '''\n",
        "    return max(\n",
        "        categorias, key=lambda categoria: prob_frase(categoria, frase)\n",
        "    )"
      ],
      "execution_count": 9,
      "outputs": []
    },
    {
      "cell_type": "markdown",
      "metadata": {
        "id": "h5Gxod3lS5al"
      },
      "source": [
        "___\n",
        "### Verificando a performance do Classificador\n",
        "\n",
        "Agora você deve testar o seu classificador com a base de Testes."
      ]
    },
    {
      "cell_type": "code",
      "metadata": {
        "id": "zcoahNDgS5al",
        "outputId": "e6189aa1-8031-480b-c40d-f993f913792c",
        "colab": {
          "base_uri": "https://localhost:8080/",
          "height": 414
        }
      },
      "source": [
        "test.loc[:, 'Teste'] = test.Teste.apply(clean_data)\n",
        "test.loc[:, 'RELEVÂNCIA'] = test.RELEVÂNCIA.map({0: 'muito irrelevante',\n",
        "                                                   1: 'irrelevante',\n",
        "                                                   2: 'neutro',\n",
        "                                                   3: 'relevante',\n",
        "                                                   4: 'muito relevante'})\n",
        "test"
      ],
      "execution_count": 10,
      "outputs": [
        {
          "output_type": "execute_result",
          "data": {
            "text/html": [
              "<div>\n",
              "<style scoped>\n",
              "    .dataframe tbody tr th:only-of-type {\n",
              "        vertical-align: middle;\n",
              "    }\n",
              "\n",
              "    .dataframe tbody tr th {\n",
              "        vertical-align: top;\n",
              "    }\n",
              "\n",
              "    .dataframe thead th {\n",
              "        text-align: right;\n",
              "    }\n",
              "</style>\n",
              "<table border=\"1\" class=\"dataframe\">\n",
              "  <thead>\n",
              "    <tr style=\"text-align: right;\">\n",
              "      <th></th>\n",
              "      <th>Teste</th>\n",
              "      <th>RELEVÂNCIA</th>\n",
              "    </tr>\n",
              "  </thead>\n",
              "  <tbody>\n",
              "    <tr>\n",
              "      <th>0</th>\n",
              "      <td>[minh, mãe, pod, dá, iphon, pen, aniversári]</td>\n",
              "      <td>muito relevante</td>\n",
              "    </tr>\n",
              "    <tr>\n",
              "      <th>1</th>\n",
              "      <td>[qri, faz, trend, tv, alem, ser, pequen, n, te...</td>\n",
              "      <td>muito relevante</td>\n",
              "    </tr>\n",
              "    <tr>\n",
              "      <th>2</th>\n",
              "      <td>[pap, q, whatsapp, qu, iphon, vai, par, alguém...</td>\n",
              "      <td>relevante</td>\n",
              "    </tr>\n",
              "    <tr>\n",
              "      <th>3</th>\n",
              "      <td>[iphon, 13, vai, esper, pouc, pq, gat, troc, p...</td>\n",
              "      <td>muito relevante</td>\n",
              "    </tr>\n",
              "    <tr>\n",
              "      <th>4</th>\n",
              "      <td>[alguém, sab, qu, quebr, tel, iphon, val, pen,...</td>\n",
              "      <td>relevante</td>\n",
              "    </tr>\n",
              "    <tr>\n",
              "      <th>...</th>\n",
              "      <td>...</td>\n",
              "      <td>...</td>\n",
              "    </tr>\n",
              "    <tr>\n",
              "      <th>245</th>\n",
              "      <td>[iphon, compens, peg, agor, 2021]</td>\n",
              "      <td>relevante</td>\n",
              "    </tr>\n",
              "    <tr>\n",
              "      <th>246</th>\n",
              "      <td>[met, mar, ganh, iphon, 12, melhor, amig]</td>\n",
              "      <td>muito relevante</td>\n",
              "    </tr>\n",
              "    <tr>\n",
              "      <th>247</th>\n",
              "      <td>[us, comb, iphon, macbook, airpod, perfeit, di...</td>\n",
              "      <td>relevante</td>\n",
              "    </tr>\n",
              "    <tr>\n",
              "      <th>248</th>\n",
              "      <td>[med, prefir, fic, iphon, httpstcoroompbrncj]</td>\n",
              "      <td>muito relevante</td>\n",
              "    </tr>\n",
              "    <tr>\n",
              "      <th>249</th>\n",
              "      <td>[cúmul, absurd, ter, iphon, ter, crédit, miser...</td>\n",
              "      <td>neutro</td>\n",
              "    </tr>\n",
              "  </tbody>\n",
              "</table>\n",
              "<p>250 rows × 2 columns</p>\n",
              "</div>"
            ],
            "text/plain": [
              "                                                 Teste       RELEVÂNCIA\n",
              "0         [minh, mãe, pod, dá, iphon, pen, aniversári]  muito relevante\n",
              "1    [qri, faz, trend, tv, alem, ser, pequen, n, te...  muito relevante\n",
              "2    [pap, q, whatsapp, qu, iphon, vai, par, alguém...        relevante\n",
              "3    [iphon, 13, vai, esper, pouc, pq, gat, troc, p...  muito relevante\n",
              "4    [alguém, sab, qu, quebr, tel, iphon, val, pen,...        relevante\n",
              "..                                                 ...              ...\n",
              "245                  [iphon, compens, peg, agor, 2021]        relevante\n",
              "246          [met, mar, ganh, iphon, 12, melhor, amig]  muito relevante\n",
              "247  [us, comb, iphon, macbook, airpod, perfeit, di...        relevante\n",
              "248      [med, prefir, fic, iphon, httpstcoroompbrncj]  muito relevante\n",
              "249  [cúmul, absurd, ter, iphon, ter, crédit, miser...           neutro\n",
              "\n",
              "[250 rows x 2 columns]"
            ]
          },
          "metadata": {},
          "execution_count": 10
        }
      ]
    },
    {
      "cell_type": "code",
      "metadata": {
        "id": "wwEQAAYu9MZI",
        "outputId": "39a9e6e7-1240-44cd-967d-9630ecbe8a17",
        "colab": {
          "base_uri": "https://localhost:8080/",
          "height": 35
        }
      },
      "source": [
        "classificador(['med', 'prefir', 'fic', 'iphon', 'httpstcoroompbrncj'])"
      ],
      "execution_count": 11,
      "outputs": [
        {
          "output_type": "execute_result",
          "data": {
            "application/vnd.google.colaboratory.intrinsic+json": {
              "type": "string"
            },
            "text/plain": [
              "'muito irrelevante'"
            ]
          },
          "metadata": {},
          "execution_count": 11
        }
      ]
    },
    {
      "cell_type": "code",
      "metadata": {
        "id": "YCQt0aFxS5an",
        "outputId": "acf4fa27-7e46-409a-a0a0-9d9f682b49ec",
        "colab": {
          "base_uri": "https://localhost:8080/",
          "height": 141
        }
      },
      "source": [
        "test['Acertos'] = test.Teste.apply(classificador) == test.RELEVÂNCIA\n",
        "pd.crosstab(test.Acertos, test.RELEVÂNCIA, normalize='columns')"
      ],
      "execution_count": 24,
      "outputs": [
        {
          "output_type": "execute_result",
          "data": {
            "text/html": [
              "<div>\n",
              "<style scoped>\n",
              "    .dataframe tbody tr th:only-of-type {\n",
              "        vertical-align: middle;\n",
              "    }\n",
              "\n",
              "    .dataframe tbody tr th {\n",
              "        vertical-align: top;\n",
              "    }\n",
              "\n",
              "    .dataframe thead th {\n",
              "        text-align: right;\n",
              "    }\n",
              "</style>\n",
              "<table border=\"1\" class=\"dataframe\">\n",
              "  <thead>\n",
              "    <tr style=\"text-align: right;\">\n",
              "      <th>RELEVÂNCIA</th>\n",
              "      <th>irrelevante</th>\n",
              "      <th>muito irrelevante</th>\n",
              "      <th>muito relevante</th>\n",
              "      <th>neutro</th>\n",
              "      <th>relevante</th>\n",
              "    </tr>\n",
              "    <tr>\n",
              "      <th>Acertos</th>\n",
              "      <th></th>\n",
              "      <th></th>\n",
              "      <th></th>\n",
              "      <th></th>\n",
              "      <th></th>\n",
              "    </tr>\n",
              "  </thead>\n",
              "  <tbody>\n",
              "    <tr>\n",
              "      <th>False</th>\n",
              "      <td>0.894737</td>\n",
              "      <td>0.55814</td>\n",
              "      <td>0.453125</td>\n",
              "      <td>0.65</td>\n",
              "      <td>0.921875</td>\n",
              "    </tr>\n",
              "    <tr>\n",
              "      <th>True</th>\n",
              "      <td>0.105263</td>\n",
              "      <td>0.44186</td>\n",
              "      <td>0.546875</td>\n",
              "      <td>0.35</td>\n",
              "      <td>0.078125</td>\n",
              "    </tr>\n",
              "  </tbody>\n",
              "</table>\n",
              "</div>"
            ],
            "text/plain": [
              "RELEVÂNCIA  irrelevante  muito irrelevante  muito relevante  neutro  relevante\n",
              "Acertos                                                                       \n",
              "False          0.894737            0.55814         0.453125    0.65   0.921875\n",
              "True           0.105263            0.44186         0.546875    0.35   0.078125"
            ]
          },
          "metadata": {},
          "execution_count": 24
        }
      ]
    },
    {
      "cell_type": "code",
      "metadata": {
        "id": "PeqZ8y0XS5ao"
      },
      "source": [
        ""
      ],
      "execution_count": 12,
      "outputs": []
    },
    {
      "cell_type": "markdown",
      "metadata": {
        "id": "7gMKa9MzS5ao"
      },
      "source": [
        "___\n",
        "### Concluindo"
      ]
    },
    {
      "cell_type": "code",
      "metadata": {
        "id": "Xlvu5OaVS5ap"
      },
      "source": [
        ""
      ],
      "execution_count": 12,
      "outputs": []
    },
    {
      "cell_type": "code",
      "metadata": {
        "id": "daaGFDpwS5ap"
      },
      "source": [
        ""
      ],
      "execution_count": 12,
      "outputs": []
    },
    {
      "cell_type": "code",
      "metadata": {
        "id": "yeshhWEUS5ap"
      },
      "source": [
        ""
      ],
      "execution_count": 12,
      "outputs": []
    },
    {
      "cell_type": "markdown",
      "metadata": {
        "id": "FejWaux3S5ar"
      },
      "source": [
        "___\n",
        "### Qualidade do Classificador a partir de novas separações dos tweets entre Treinamento e Teste\n",
        "\n",
        "Caso for fazer esse item do Projeto"
      ]
    },
    {
      "cell_type": "code",
      "metadata": {
        "id": "Z4P2m9V-S5as"
      },
      "source": [
        ""
      ],
      "execution_count": 12,
      "outputs": []
    },
    {
      "cell_type": "code",
      "metadata": {
        "id": "kXka_PEhS5as"
      },
      "source": [
        ""
      ],
      "execution_count": 12,
      "outputs": []
    },
    {
      "cell_type": "code",
      "metadata": {
        "id": "AEZjpv53S5as"
      },
      "source": [
        ""
      ],
      "execution_count": 12,
      "outputs": []
    },
    {
      "cell_type": "markdown",
      "metadata": {
        "id": "KNN-SzU5S5at"
      },
      "source": [
        "___\n",
        "## Aperfeiçoamento:\n",
        "\n",
        "Trabalhos que conseguirem pelo menos conceito B vão evoluir em conceito dependendo da quantidade de itens avançados:\n",
        "\n",
        "* IMPLEMENTOU outras limpezas e transformações que não afetem a qualidade da informação contida nos tweets. Ex: stemming, lemmatization, stopwords\n",
        "* CORRIGIU separação de espaços entre palavras e emojis ou entre emojis e emojis\n",
        "* CRIOU categorias intermediárias de relevância baseadas na probabilidade: ex.: muito relevante, relevante, neutro, irrelevante, muito irrelevante. Pelo menos quatro categorias, com adição de mais tweets na base, conforme enunciado. (OBRIGATÓRIO PARA TRIOS, sem contar como item avançado)\n",
        "* EXPLICOU porquê não pode usar o próprio classificador para gerar mais amostras de treinamento\n",
        "* PROPÔS diferentes cenários para Naïve Bayes fora do contexto do projeto\n",
        "* SUGERIU e EXPLICOU melhorias reais com indicações concretas de como implementar (indicar como fazer e indicar material de pesquisa)\n",
        "* FEZ o item 6. Qualidade do Classificador a partir de novas separações dos tweets entre Treinamento e Teste descrito no enunciado do projeto (OBRIGATÓRIO para conceitos A ou A+)"
      ]
    },
    {
      "cell_type": "markdown",
      "metadata": {
        "id": "q0Y_1D2QS5au"
      },
      "source": [
        "___\n",
        "## Referências"
      ]
    },
    {
      "cell_type": "markdown",
      "metadata": {
        "id": "9hmWL7bnS5av"
      },
      "source": [
        "[Naive Bayes and Text Classification](https://arxiv.org/pdf/1410.5329.pdf)  **Mais completo**\n",
        "\n",
        "[A practical explanation of a Naive Bayes Classifier](https://monkeylearn.com/blog/practical-explanation-naive-bayes-classifier/) **Mais simples**"
      ]
    },
    {
      "cell_type": "code",
      "metadata": {
        "id": "xGM0hWaPS5av"
      },
      "source": [
        ""
      ],
      "execution_count": 12,
      "outputs": []
    }
  ]
}