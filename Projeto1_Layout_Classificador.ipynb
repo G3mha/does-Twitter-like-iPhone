{
  "nbformat": 4,
  "nbformat_minor": 2,
  "metadata": {
    "kernelspec": {
      "name": "python3",
      "display_name": "Python 3.8.8 64-bit ('base': conda)"
    },
    "language_info": {
      "codemirror_mode": {
        "name": "ipython",
        "version": 3
      },
      "file_extension": ".py",
      "mimetype": "text/x-python",
      "name": "python",
      "nbconvert_exporter": "python",
      "pygments_lexer": "ipython3",
      "version": "3.8.8"
    },
    "interpreter": {
      "hash": "dca0ade3e726a953b501b15e8e990130d2b7799f14cfd9f4271676035ebe5511"
    },
    "colab": {
      "name": "Projeto1_Layout_Classificador.ipynb",
      "provenance": []
    }
  },
  "cells": [
    {
      "cell_type": "markdown",
      "source": [
        "# Projeto 1 - Ciência dos Dados\n"
      ],
      "metadata": {
        "id": "V2XTA7geS5Yw"
      }
    },
    {
      "cell_type": "markdown",
      "source": [
        "Nome: Enricco Gemha\n",
        "\n",
        "Nome: Marcelo Rabello Barranco\n",
        "\n",
        "Nome: Rafael Coca Leventhal\n"
      ],
      "metadata": {
        "id": "JBhxFDZOS5Y4"
      }
    },
    {
      "cell_type": "markdown",
      "source": [
        "Atenção: Serão permitidos grupos de três pessoas, mas com uma rubrica mais exigente. Grupos deste tamanho precisarão fazer um questionário de avaliação de trabalho em equipe\n"
      ],
      "metadata": {
        "id": "CVBlQguES5Y6"
      }
    },
    {
      "cell_type": "markdown",
      "source": [
        "---\n",
        "\n",
        "Carregando algumas bibliotecas:\n"
      ],
      "metadata": {
        "id": "R_wmY84fS5Y7"
      }
    },
    {
      "cell_type": "code",
      "execution_count": 92,
      "source": [
        "import pandas as pd\r\n",
        "import matplotlib.pyplot as plt\r\n",
        "import numpy as np\r\n",
        "import os\r\n",
        "import re\r\n",
        "import nltk\r\n",
        "\r\n",
        "nltk.download('rslp');\r\n",
        "nltk.download('stopwords');"
      ],
      "outputs": [
        {
          "output_type": "stream",
          "name": "stderr",
          "text": [
            "[nltk_data] Downloading package rslp to\n",
            "[nltk_data]     C:\\Users\\rafae\\AppData\\Roaming\\nltk_data...\n",
            "[nltk_data]   Package rslp is already up-to-date!\n",
            "[nltk_data] Downloading package stopwords to\n",
            "[nltk_data]     C:\\Users\\rafae\\AppData\\Roaming\\nltk_data...\n",
            "[nltk_data]   Package stopwords is already up-to-date!\n"
          ]
        }
      ],
      "metadata": {
        "id": "fVH7780HS5ZC",
        "outputId": "a852d266-532d-481b-ef2b-fcc1b1bc79a5",
        "colab": {
          "base_uri": "https://localhost:8080/"
        }
      }
    },
    {
      "cell_type": "code",
      "execution_count": 93,
      "source": [
        "print('Esperamos trabalhar no diretório')\r\n",
        "print(os.getcwd())"
      ],
      "outputs": [
        {
          "output_type": "stream",
          "name": "stdout",
          "text": [
            "Esperamos trabalhar no diretório\n",
            "c:\\Users\\rafae\\OneDrive - Insper - Institudo de Ensino e Pesquisa\\2º sem\\cdados\\projeto1-cdados\n"
          ]
        }
      ],
      "metadata": {
        "scrolled": false,
        "id": "0UeYWJMUS5ZD",
        "outputId": "0fcb60f8-437b-44a5-d368-22ca80e5b0c1",
        "colab": {
          "base_uri": "https://localhost:8080/"
        }
      }
    },
    {
      "cell_type": "markdown",
      "source": [
        "Carregando a base de dados com os tweets classificados com os critérios explicitados no README.md do projeto:"
      ],
      "metadata": {
        "id": "bPeNbqKCS5Z4"
      }
    },
    {
      "cell_type": "code",
      "execution_count": 94,
      "source": [
        "filename = 'iphone.xlsx'"
      ],
      "outputs": [],
      "metadata": {
        "id": "-hx1Xr__S5Z6"
      }
    },
    {
      "cell_type": "code",
      "execution_count": 95,
      "source": [
        "train = pd.read_excel(filename)\r\n",
        "train.head()"
      ],
      "outputs": [
        {
          "output_type": "execute_result",
          "data": {
            "text/html": [
              "<div>\n",
              "<style scoped>\n",
              "    .dataframe tbody tr th:only-of-type {\n",
              "        vertical-align: middle;\n",
              "    }\n",
              "\n",
              "    .dataframe tbody tr th {\n",
              "        vertical-align: top;\n",
              "    }\n",
              "\n",
              "    .dataframe thead th {\n",
              "        text-align: right;\n",
              "    }\n",
              "</style>\n",
              "<table border=\"1\" class=\"dataframe\">\n",
              "  <thead>\n",
              "    <tr style=\"text-align: right;\">\n",
              "      <th></th>\n",
              "      <th>Treinamento</th>\n",
              "      <th>RELEVÂNCIA</th>\n",
              "    </tr>\n",
              "  </thead>\n",
              "  <tbody>\n",
              "    <tr>\n",
              "      <th>0</th>\n",
              "      <td>- pego meu iphone 15 pro max 6g\\n- ligo pra mi...</td>\n",
              "      <td>0</td>\n",
              "    </tr>\n",
              "    <tr>\n",
              "      <th>1</th>\n",
              "      <td>@venusbillie ai fica tao mais bonito no iphone...</td>\n",
              "      <td>4</td>\n",
              "    </tr>\n",
              "    <tr>\n",
              "      <th>2</th>\n",
              "      <td>mas tambem quem compra iphone 6 em 2021 tem ma...</td>\n",
              "      <td>4</td>\n",
              "    </tr>\n",
              "    <tr>\n",
              "      <th>3</th>\n",
              "      <td>feliz pra crl , pegar meu iphone agr 😅</td>\n",
              "      <td>4</td>\n",
              "    </tr>\n",
              "    <tr>\n",
              "      <th>4</th>\n",
              "      <td>@tatielly_keys vc tem iphone?</td>\n",
              "      <td>0</td>\n",
              "    </tr>\n",
              "  </tbody>\n",
              "</table>\n",
              "</div>"
            ],
            "text/plain": [
              "                                         Treinamento  RELEVÂNCIA\n",
              "0  - pego meu iphone 15 pro max 6g\\n- ligo pra mi...           0\n",
              "1  @venusbillie ai fica tao mais bonito no iphone...           4\n",
              "2  mas tambem quem compra iphone 6 em 2021 tem ma...           4\n",
              "3             feliz pra crl , pegar meu iphone agr 😅           4\n",
              "4                      @tatielly_keys vc tem iphone?           0"
            ]
          },
          "metadata": {},
          "execution_count": 95
        }
      ],
      "metadata": {
        "id": "_mvtX4-tS5Z8",
        "outputId": "fbf23c37-d0d3-48a1-99eb-7195a380a8f5",
        "colab": {
          "base_uri": "https://localhost:8080/",
          "height": 414
        }
      }
    },
    {
      "cell_type": "code",
      "execution_count": 96,
      "source": [
        "train.RELEVÂNCIA.value_counts(True)"
      ],
      "outputs": [
        {
          "output_type": "execute_result",
          "data": {
            "text/plain": [
              "0    0.277333\n",
              "4    0.241333\n",
              "2    0.204000\n",
              "3    0.152000\n",
              "1    0.125333\n",
              "Name: RELEVÂNCIA, dtype: float64"
            ]
          },
          "metadata": {},
          "execution_count": 96
        }
      ],
      "metadata": {}
    },
    {
      "cell_type": "code",
      "execution_count": 97,
      "source": [
        "test = pd.read_excel(filename, sheet_name='Teste')\r\n",
        "test.head()"
      ],
      "outputs": [
        {
          "output_type": "execute_result",
          "data": {
            "text/html": [
              "<div>\n",
              "<style scoped>\n",
              "    .dataframe tbody tr th:only-of-type {\n",
              "        vertical-align: middle;\n",
              "    }\n",
              "\n",
              "    .dataframe tbody tr th {\n",
              "        vertical-align: top;\n",
              "    }\n",
              "\n",
              "    .dataframe thead th {\n",
              "        text-align: right;\n",
              "    }\n",
              "</style>\n",
              "<table border=\"1\" class=\"dataframe\">\n",
              "  <thead>\n",
              "    <tr style=\"text-align: right;\">\n",
              "      <th></th>\n",
              "      <th>Teste</th>\n",
              "      <th>RELEVÂNCIA</th>\n",
              "    </tr>\n",
              "  </thead>\n",
              "  <tbody>\n",
              "    <tr>\n",
              "      <th>0</th>\n",
              "      <td>minha mãe podia me dá um iphone só de pena no ...</td>\n",
              "      <td>4</td>\n",
              "    </tr>\n",
              "    <tr>\n",
              "      <th>1</th>\n",
              "      <td>qria fazer a trend da tv alem de ser pequena n...</td>\n",
              "      <td>4</td>\n",
              "    </tr>\n",
              "    <tr>\n",
              "      <th>2</th>\n",
              "      <td>papo de q o whatsapp de quem tem iphone vai pa...</td>\n",
              "      <td>3</td>\n",
              "    </tr>\n",
              "    <tr>\n",
              "      <th>3</th>\n",
              "      <td>iphone 13 vai esperar mais um pouco pq a gata ...</td>\n",
              "      <td>4</td>\n",
              "    </tr>\n",
              "    <tr>\n",
              "      <th>4</th>\n",
              "      <td>alguém sabe se quando quebra a tela do iphone ...</td>\n",
              "      <td>3</td>\n",
              "    </tr>\n",
              "  </tbody>\n",
              "</table>\n",
              "</div>"
            ],
            "text/plain": [
              "                                               Teste  RELEVÂNCIA\n",
              "0  minha mãe podia me dá um iphone só de pena no ...           4\n",
              "1  qria fazer a trend da tv alem de ser pequena n...           4\n",
              "2  papo de q o whatsapp de quem tem iphone vai pa...           3\n",
              "3  iphone 13 vai esperar mais um pouco pq a gata ...           4\n",
              "4  alguém sabe se quando quebra a tela do iphone ...           3"
            ]
          },
          "metadata": {},
          "execution_count": 97
        }
      ],
      "metadata": {
        "id": "cjEBtlhQS5Z-",
        "outputId": "583c937a-0b6b-4f6e-a7d8-c704f99650f8",
        "colab": {
          "base_uri": "https://localhost:8080/",
          "height": 202
        }
      }
    },
    {
      "cell_type": "markdown",
      "source": [
        "---\n",
        "\n",
        "## Classificador automático de sentimento\n"
      ],
      "metadata": {
        "id": "sl0W5enaS5aG"
      }
    },
    {
      "cell_type": "markdown",
      "source": [
        "Produto: iPhone (dispensa descrições)\r\n",
        "\r\n",
        "- MUITO IRRELEVANTE: falando de outro assunto, não envolve o iPhone, pessoas que não sabem tweetar ou se comunicar (Ex: só colocou uma hashtag)\r\n",
        "- IRRELEVANTE: anúncios de venda (EX: venha comprar no magalu)\r\n",
        "- NEUTRO: piada sobre o iPhone (EX: iPhone é o Corsa em miniatura kkkkkk)\r\n",
        "- RELEVANTE: comentário indireto relacionado ao iPhone (EX: meu professor de ciências passou 30 minutos só falando do novo iPhone dele)\r\n",
        "- MUITO RELEVANTE: falando objetivamente do iPhone, tipo opinião, dúvida ou desejo de comprar (EX: iPhone 13 vai esperar um pouco para chegar em minhas mãos)\r\n",
        "\r\n",
        "* MUITO IRRELEVANTE = 0\r\n",
        "* IRRELEVANTE = 1\r\n",
        "* NEUTRO = 2\r\n",
        "* RELEVANTE = 3\r\n",
        "* MUITO RELEVANTE = 4\r\n"
      ],
      "metadata": {
        "id": "1WGIer6xS5aH"
      }
    },
    {
      "cell_type": "markdown",
      "source": [
        "---\r\n",
        "\r\n",
        "### Montando um Classificador Naive-Bayes\r\n",
        "\r\n",
        "Considerando apenas as mensagens da planilha Treinamento, ensine seu classificador.\r\n"
      ],
      "metadata": {
        "id": "hiqt4KqjS5aK"
      }
    },
    {
      "cell_type": "markdown",
      "source": [
        "### Definindo a função de limpeza dos Tweets\r\n",
        "\r\n",
        "A função abaixo é responsável por remover, respectivamente: \r\n",
        "- links (tipos HTTP, HTTPS e FTP) \r\n",
        "- tags de usernames (@)\r\n",
        "- sinais de pontuação (! - _ . : ? ; [] \\ /)\r\n",
        "\r\n",
        "Além disso, a função também é responsável por realizar os seguintes processos:\r\n",
        "- STEMMING (descrito na documentação do NLTK como: \"A processing interface for removing morphological affixes from words.\")\r\n",
        "\r\n",
        "- TOKENIZING (descrito pela documentação do NLTK como: \"A tokenizer that divides a string into substrings by splitting on the specified string (defined in subclasses).\")"
      ],
      "metadata": {}
    },
    {
      "cell_type": "code",
      "execution_count": 98,
      "source": [
        "def clean_data(text):\r\n",
        "    # remover endereço\r\n",
        "    http_re = r'(http|ftp|https)://([\\w_-]+(?:(?:\\.[\\w_-]+)+))([\\w.,@?^=%&:/~+#-]*[\\w@?^=%&/~+#-])?'\r\n",
        "    text = re.sub(http_re, '', text)\r\n",
        "\r\n",
        "    # remover usernames\r\n",
        "    text = re.sub(r'@[^\\s]*', '', text)\r\n",
        "\r\n",
        "    # removendo sinais de pontuação\r\n",
        "    text = re.sub(r'[!-_.:?;[\\]/]', '', text)\r\n",
        "\r\n",
        "    # tokenizing\r\n",
        "    tokenizer = nltk.tokenize.casual.TweetTokenizer()\r\n",
        "    text = tokenizer.tokenize(text)\r\n",
        "\r\n",
        "    # stemming\r\n",
        "    stemmer = nltk.stem.RSLPStemmer()\r\n",
        "    text = list(map(stemmer.stem, text))\r\n",
        "\r\n",
        "    return text\r\n"
      ],
      "outputs": [],
      "metadata": {
        "id": "SWg43YgpS5aN"
      }
    },
    {
      "cell_type": "code",
      "execution_count": 99,
      "source": [
        "# preparando os dados\r\n",
        "train.loc[:, 'Treinamento'] = train.Treinamento.apply(clean_data)\r\n",
        "train_relevancia = train.RELEVÂNCIA.map({\r\n",
        "    0: 'muito irrelevante',\r\n",
        "    1: 'irrelevante',\r\n",
        "    2: 'neutro',\r\n",
        "    3: 'relevante',\r\n",
        "    4: 'muito relevante'\r\n",
        "})\r\n",
        "\r\n",
        "categorias = ['muito irrelevante', 'irrelevante',\r\n",
        "              'neutro', 'relevante', 'muito relevante']\r\n",
        "\r\n",
        "train.loc[:, 'RELEVÂNCIA'] = pd.Categorical(\r\n",
        "    train_relevancia, categories=categorias, ordered=True\r\n",
        ")\r\n",
        "train"
      ],
      "outputs": [
        {
          "output_type": "execute_result",
          "data": {
            "text/html": [
              "<div>\n",
              "<style scoped>\n",
              "    .dataframe tbody tr th:only-of-type {\n",
              "        vertical-align: middle;\n",
              "    }\n",
              "\n",
              "    .dataframe tbody tr th {\n",
              "        vertical-align: top;\n",
              "    }\n",
              "\n",
              "    .dataframe thead th {\n",
              "        text-align: right;\n",
              "    }\n",
              "</style>\n",
              "<table border=\"1\" class=\"dataframe\">\n",
              "  <thead>\n",
              "    <tr style=\"text-align: right;\">\n",
              "      <th></th>\n",
              "      <th>Treinamento</th>\n",
              "      <th>RELEVÂNCIA</th>\n",
              "    </tr>\n",
              "  </thead>\n",
              "  <tbody>\n",
              "    <tr>\n",
              "      <th>0</th>\n",
              "      <td>[peg, meu, iphon, pro, max, g, lig, pra, minh,...</td>\n",
              "      <td>muito irrelevante</td>\n",
              "    </tr>\n",
              "    <tr>\n",
              "      <th>1</th>\n",
              "      <td>[ai, fic, tao, mais, bonit, no, iphon, q, dor, 💔]</td>\n",
              "      <td>muito relevante</td>\n",
              "    </tr>\n",
              "    <tr>\n",
              "      <th>2</th>\n",
              "      <td>[mas, tamb, qu, compr, iphon, em, tem, mais, q...</td>\n",
              "      <td>muito relevante</td>\n",
              "    </tr>\n",
              "    <tr>\n",
              "      <th>3</th>\n",
              "      <td>[feliz, pra, crl, peg, meu, iphon, agr, 😅]</td>\n",
              "      <td>muito relevante</td>\n",
              "    </tr>\n",
              "    <tr>\n",
              "      <th>4</th>\n",
              "      <td>[vc, tem, iphon]</td>\n",
              "      <td>muito irrelevante</td>\n",
              "    </tr>\n",
              "    <tr>\n",
              "      <th>...</th>\n",
              "      <td>...</td>\n",
              "      <td>...</td>\n",
              "    </tr>\n",
              "    <tr>\n",
              "      <th>745</th>\n",
              "      <td>[minh, mãe, qu, compr, o, iphon, pra, ela, e, ...</td>\n",
              "      <td>muito relevante</td>\n",
              "    </tr>\n",
              "    <tr>\n",
              "      <th>746</th>\n",
              "      <td>[nunc, precis, mex, no, meu, iphon, se, antig,...</td>\n",
              "      <td>muito irrelevante</td>\n",
              "    </tr>\n",
              "    <tr>\n",
              "      <th>747</th>\n",
              "      <td>[era, só, um, carreg, de, iphon, 😪]</td>\n",
              "      <td>muito irrelevante</td>\n",
              "    </tr>\n",
              "    <tr>\n",
              "      <th>748</th>\n",
              "      <td>[tô, doid, com, ess, películ, privacidadee, vi...</td>\n",
              "      <td>relevante</td>\n",
              "    </tr>\n",
              "    <tr>\n",
              "      <th>749</th>\n",
              "      <td>[iphon, anunci, dia, 🤡]</td>\n",
              "      <td>muito relevante</td>\n",
              "    </tr>\n",
              "  </tbody>\n",
              "</table>\n",
              "<p>750 rows × 2 columns</p>\n",
              "</div>"
            ],
            "text/plain": [
              "                                           Treinamento         RELEVÂNCIA\n",
              "0    [peg, meu, iphon, pro, max, g, lig, pra, minh,...  muito irrelevante\n",
              "1    [ai, fic, tao, mais, bonit, no, iphon, q, dor, 💔]    muito relevante\n",
              "2    [mas, tamb, qu, compr, iphon, em, tem, mais, q...    muito relevante\n",
              "3           [feliz, pra, crl, peg, meu, iphon, agr, 😅]    muito relevante\n",
              "4                                     [vc, tem, iphon]  muito irrelevante\n",
              "..                                                 ...                ...\n",
              "745  [minh, mãe, qu, compr, o, iphon, pra, ela, e, ...    muito relevante\n",
              "746  [nunc, precis, mex, no, meu, iphon, se, antig,...  muito irrelevante\n",
              "747                [era, só, um, carreg, de, iphon, 😪]  muito irrelevante\n",
              "748  [tô, doid, com, ess, películ, privacidadee, vi...          relevante\n",
              "749                            [iphon, anunci, dia, 🤡]    muito relevante\n",
              "\n",
              "[750 rows x 2 columns]"
            ]
          },
          "metadata": {},
          "execution_count": 99
        }
      ],
      "metadata": {
        "id": "FyP5djm7S5aj",
        "outputId": "af5f13bd-4553-47b3-9823-065dc325a28a",
        "colab": {
          "base_uri": "https://localhost:8080/",
          "height": 414
        }
      }
    },
    {
      "cell_type": "code",
      "execution_count": 100,
      "source": [
        "train.RELEVÂNCIA.describe()"
      ],
      "outputs": [
        {
          "output_type": "execute_result",
          "data": {
            "text/plain": [
              "count                   750\n",
              "unique                    5\n",
              "top       muito irrelevante\n",
              "freq                    208\n",
              "Name: RELEVÂNCIA, dtype: object"
            ]
          },
          "metadata": {},
          "execution_count": 100
        }
      ],
      "metadata": {
        "id": "4sOpBi-Apnpy",
        "outputId": "bf4efa64-3003-443c-eb28-5868c067f430",
        "colab": {
          "base_uri": "https://localhost:8080/"
        }
      }
    },
    {
      "cell_type": "markdown",
      "source": [
        "## Construindo o Classificador Naïve-Bayes\r\n",
        "\r\n",
        "### Treinamento\r\n",
        "\r\n",
        "O processo consiste em ensinar o classificador, com base nos tweets coletados SOMENTE na planilha de treinamento (train), com os seguintes passos:\r\n",
        "<ol>\r\n",
        "    <li>\r\n",
        "        criar uma lista com as categorias de relevâncias\r\n",
        "    </li>\r\n",
        "    <li>\r\n",
        "        descobrir o número de palavras com somente 1 ocorrência nos tweets\r\n",
        "    </li>\r\n",
        "    <li>\r\n",
        "        criar um dicionário com as palavras de cada categoria\r\n",
        "    </li>\r\n",
        "    <li>\r\n",
        "        descobrir o número de palavras totais para cada categoria\r\n",
        "    </li>\r\n",
        "</ol>"
      ],
      "metadata": {}
    },
    {
      "cell_type": "code",
      "execution_count": 101,
      "source": [
        "# construindo classificador\n",
        "categorias = ['muito irrelevante', 'irrelevante',\n",
        "              'neutro', 'relevante', 'muito relevante']\n",
        "\n",
        "# número de palavras/emojis únicos presentes em toda a base de dados\n",
        "palavras_unicas = set(sum(train.Treinamento, []))\n",
        "\n",
        "# dicionário de palavras por categoria\n",
        "palavras_por_categoria = {\n",
        "    categoria: sum(train[train.RELEVÂNCIA == categoria].Treinamento, [])\n",
        "    for categoria in categorias\n",
        "}\n",
        "\n",
        "# número de ocorrências de palavra por categoria\n",
        "ocorrencia_de_palavras_por_categoria =  {\n",
        "    categoria: {\n",
        "        palavra: palavras_por_categoria[categoria].count(palavra)\n",
        "        for palavra in palavras_unicas\n",
        "    }\n",
        "    for categoria in categorias\n",
        "}\n",
        "\n",
        "\n",
        "def prob_frase(categoria, frase):\n",
        "    '''\n",
        "    Calcula a probabilidade de frase estar em categoria\n",
        "    '''\n",
        "    # limpeza de frase caso forneciada no formato de str\n",
        "    if frase is str:\n",
        "        frase = clean_data(frase)\n",
        "    \n",
        "    # cálculo da probabilidade\n",
        "    return np.array(list(\n",
        "        # probabilidade de cada palavra com suavização de laplace\n",
        "        (((ocorrencia_de_palavras_por_categoria[categoria][palavra] + 1)\n",
        "        if palavra in palavras_unicas else 1) /\n",
        "         (len(palavras_por_categoria[categoria]) + len(palavras_unicas)))\n",
        "        for palavra in frase\n",
        "    )).prod()  # produto da probabilidade de cada palavra\n",
        "\n",
        "\n",
        "def classificador(frase):\n",
        "    '''\n",
        "    Retorna a categoria com a maior probabilidade de conter frase\n",
        "    '''\n",
        "    return max(\n",
        "        categorias, key=lambda categoria: prob_frase(categoria, frase)\n",
        "    )"
      ],
      "outputs": [],
      "metadata": {
        "id": "5NbtRQJPdAoh"
      }
    },
    {
      "cell_type": "code",
      "execution_count": 102,
      "source": [
        "test"
      ],
      "outputs": [
        {
          "output_type": "execute_result",
          "data": {
            "text/html": [
              "<div>\n",
              "<style scoped>\n",
              "    .dataframe tbody tr th:only-of-type {\n",
              "        vertical-align: middle;\n",
              "    }\n",
              "\n",
              "    .dataframe tbody tr th {\n",
              "        vertical-align: top;\n",
              "    }\n",
              "\n",
              "    .dataframe thead th {\n",
              "        text-align: right;\n",
              "    }\n",
              "</style>\n",
              "<table border=\"1\" class=\"dataframe\">\n",
              "  <thead>\n",
              "    <tr style=\"text-align: right;\">\n",
              "      <th></th>\n",
              "      <th>Teste</th>\n",
              "      <th>RELEVÂNCIA</th>\n",
              "    </tr>\n",
              "  </thead>\n",
              "  <tbody>\n",
              "    <tr>\n",
              "      <th>0</th>\n",
              "      <td>minha mãe podia me dá um iphone só de pena no ...</td>\n",
              "      <td>4</td>\n",
              "    </tr>\n",
              "    <tr>\n",
              "      <th>1</th>\n",
              "      <td>qria fazer a trend da tv alem de ser pequena n...</td>\n",
              "      <td>4</td>\n",
              "    </tr>\n",
              "    <tr>\n",
              "      <th>2</th>\n",
              "      <td>papo de q o whatsapp de quem tem iphone vai pa...</td>\n",
              "      <td>3</td>\n",
              "    </tr>\n",
              "    <tr>\n",
              "      <th>3</th>\n",
              "      <td>iphone 13 vai esperar mais um pouco pq a gata ...</td>\n",
              "      <td>4</td>\n",
              "    </tr>\n",
              "    <tr>\n",
              "      <th>4</th>\n",
              "      <td>alguém sabe se quando quebra a tela do iphone ...</td>\n",
              "      <td>3</td>\n",
              "    </tr>\n",
              "    <tr>\n",
              "      <th>...</th>\n",
              "      <td>...</td>\n",
              "      <td>...</td>\n",
              "    </tr>\n",
              "    <tr>\n",
              "      <th>245</th>\n",
              "      <td>qual iphone compensa pegar agora em 2021?</td>\n",
              "      <td>3</td>\n",
              "    </tr>\n",
              "    <tr>\n",
              "      <th>246</th>\n",
              "      <td>meta de maria:\\nganhar um iphone 12 da melhor ...</td>\n",
              "      <td>4</td>\n",
              "    </tr>\n",
              "    <tr>\n",
              "      <th>247</th>\n",
              "      <td>usando o combo iphone, macbook e airpods é per...</td>\n",
              "      <td>3</td>\n",
              "    </tr>\n",
              "    <tr>\n",
              "      <th>248</th>\n",
              "      <td>medo. prefiro ficar sem iphone https://t.co/ro...</td>\n",
              "      <td>4</td>\n",
              "    </tr>\n",
              "    <tr>\n",
              "      <th>249</th>\n",
              "      <td>o cúmulo do absurdo é eu ter iphone e não ter ...</td>\n",
              "      <td>2</td>\n",
              "    </tr>\n",
              "  </tbody>\n",
              "</table>\n",
              "<p>250 rows × 2 columns</p>\n",
              "</div>"
            ],
            "text/plain": [
              "                                                 Teste  RELEVÂNCIA\n",
              "0    minha mãe podia me dá um iphone só de pena no ...           4\n",
              "1    qria fazer a trend da tv alem de ser pequena n...           4\n",
              "2    papo de q o whatsapp de quem tem iphone vai pa...           3\n",
              "3    iphone 13 vai esperar mais um pouco pq a gata ...           4\n",
              "4    alguém sabe se quando quebra a tela do iphone ...           3\n",
              "..                                                 ...         ...\n",
              "245          qual iphone compensa pegar agora em 2021?           3\n",
              "246  meta de maria:\\nganhar um iphone 12 da melhor ...           4\n",
              "247  usando o combo iphone, macbook e airpods é per...           3\n",
              "248  medo. prefiro ficar sem iphone https://t.co/ro...           4\n",
              "249  o cúmulo do absurdo é eu ter iphone e não ter ...           2\n",
              "\n",
              "[250 rows x 2 columns]"
            ]
          },
          "metadata": {},
          "execution_count": 102
        }
      ],
      "metadata": {}
    },
    {
      "cell_type": "markdown",
      "source": [
        "---\n",
        "\n",
        "### Verificando a performance do Classificador\n",
        "\n",
        "Agora você deve testar o seu classificador com a base de Testes.\n"
      ],
      "metadata": {
        "id": "h5Gxod3lS5al"
      }
    },
    {
      "cell_type": "code",
      "execution_count": 103,
      "source": [
        "test.loc[:, 'Teste'] = test.Teste.apply(clean_data)\r\n",
        "test.loc[:, 'RELEVÂNCIA'] = test.RELEVÂNCIA.map({0: 'muito irrelevante',\r\n",
        "                                                   1: 'irrelevante',\r\n",
        "                                                   2: 'neutro',\r\n",
        "                                                   3: 'relevante',\r\n",
        "                                                   4: 'muito relevante'})\r\n",
        "test"
      ],
      "outputs": [
        {
          "output_type": "execute_result",
          "data": {
            "text/html": [
              "<div>\n",
              "<style scoped>\n",
              "    .dataframe tbody tr th:only-of-type {\n",
              "        vertical-align: middle;\n",
              "    }\n",
              "\n",
              "    .dataframe tbody tr th {\n",
              "        vertical-align: top;\n",
              "    }\n",
              "\n",
              "    .dataframe thead th {\n",
              "        text-align: right;\n",
              "    }\n",
              "</style>\n",
              "<table border=\"1\" class=\"dataframe\">\n",
              "  <thead>\n",
              "    <tr style=\"text-align: right;\">\n",
              "      <th></th>\n",
              "      <th>Teste</th>\n",
              "      <th>RELEVÂNCIA</th>\n",
              "    </tr>\n",
              "  </thead>\n",
              "  <tbody>\n",
              "    <tr>\n",
              "      <th>0</th>\n",
              "      <td>[minh, mãe, pod, me, dá, um, iphon, só, de, pe...</td>\n",
              "      <td>muito relevante</td>\n",
              "    </tr>\n",
              "    <tr>\n",
              "      <th>1</th>\n",
              "      <td>[qri, faz, a, trend, da, tv, alem, de, ser, pe...</td>\n",
              "      <td>muito relevante</td>\n",
              "    </tr>\n",
              "    <tr>\n",
              "      <th>2</th>\n",
              "      <td>[pap, de, q, o, whatsapp, de, qu, tem, iphon, ...</td>\n",
              "      <td>relevante</td>\n",
              "    </tr>\n",
              "    <tr>\n",
              "      <th>3</th>\n",
              "      <td>[iphon, vai, esper, mais, um, pouc, pq, a, gat...</td>\n",
              "      <td>muito relevante</td>\n",
              "    </tr>\n",
              "    <tr>\n",
              "      <th>4</th>\n",
              "      <td>[alguém, sab, se, qu, quebr, a, tel, do, iphon...</td>\n",
              "      <td>relevante</td>\n",
              "    </tr>\n",
              "    <tr>\n",
              "      <th>...</th>\n",
              "      <td>...</td>\n",
              "      <td>...</td>\n",
              "    </tr>\n",
              "    <tr>\n",
              "      <th>245</th>\n",
              "      <td>[qual, iphon, compens, peg, agor, em]</td>\n",
              "      <td>relevante</td>\n",
              "    </tr>\n",
              "    <tr>\n",
              "      <th>246</th>\n",
              "      <td>[met, de, mar, ganh, um, iphon, da, melhor, amig]</td>\n",
              "      <td>muito relevante</td>\n",
              "    </tr>\n",
              "    <tr>\n",
              "      <th>247</th>\n",
              "      <td>[us, o, comb, iphon, macbook, e, airpod, é, pe...</td>\n",
              "      <td>relevante</td>\n",
              "    </tr>\n",
              "    <tr>\n",
              "      <th>248</th>\n",
              "      <td>[med, prefir, fic, sem, iphon]</td>\n",
              "      <td>muito relevante</td>\n",
              "    </tr>\n",
              "    <tr>\n",
              "      <th>249</th>\n",
              "      <td>[o, cúmul, do, absurd, é, eu, ter, iphon, e, n...</td>\n",
              "      <td>neutro</td>\n",
              "    </tr>\n",
              "  </tbody>\n",
              "</table>\n",
              "<p>250 rows × 2 columns</p>\n",
              "</div>"
            ],
            "text/plain": [
              "                                                 Teste       RELEVÂNCIA\n",
              "0    [minh, mãe, pod, me, dá, um, iphon, só, de, pe...  muito relevante\n",
              "1    [qri, faz, a, trend, da, tv, alem, de, ser, pe...  muito relevante\n",
              "2    [pap, de, q, o, whatsapp, de, qu, tem, iphon, ...        relevante\n",
              "3    [iphon, vai, esper, mais, um, pouc, pq, a, gat...  muito relevante\n",
              "4    [alguém, sab, se, qu, quebr, a, tel, do, iphon...        relevante\n",
              "..                                                 ...              ...\n",
              "245              [qual, iphon, compens, peg, agor, em]        relevante\n",
              "246  [met, de, mar, ganh, um, iphon, da, melhor, amig]  muito relevante\n",
              "247  [us, o, comb, iphon, macbook, e, airpod, é, pe...        relevante\n",
              "248                     [med, prefir, fic, sem, iphon]  muito relevante\n",
              "249  [o, cúmul, do, absurd, é, eu, ter, iphon, e, n...           neutro\n",
              "\n",
              "[250 rows x 2 columns]"
            ]
          },
          "metadata": {},
          "execution_count": 103
        }
      ],
      "metadata": {
        "id": "zcoahNDgS5al",
        "outputId": "e6189aa1-8031-480b-c40d-f993f913792c",
        "colab": {
          "base_uri": "https://localhost:8080/",
          "height": 414
        }
      }
    },
    {
      "cell_type": "code",
      "execution_count": 104,
      "source": [
        "test['Classificador'] = test.Teste.apply(classificador)\r\n",
        "test"
      ],
      "outputs": [
        {
          "output_type": "execute_result",
          "data": {
            "text/html": [
              "<div>\n",
              "<style scoped>\n",
              "    .dataframe tbody tr th:only-of-type {\n",
              "        vertical-align: middle;\n",
              "    }\n",
              "\n",
              "    .dataframe tbody tr th {\n",
              "        vertical-align: top;\n",
              "    }\n",
              "\n",
              "    .dataframe thead th {\n",
              "        text-align: right;\n",
              "    }\n",
              "</style>\n",
              "<table border=\"1\" class=\"dataframe\">\n",
              "  <thead>\n",
              "    <tr style=\"text-align: right;\">\n",
              "      <th></th>\n",
              "      <th>Teste</th>\n",
              "      <th>RELEVÂNCIA</th>\n",
              "      <th>Classificador</th>\n",
              "    </tr>\n",
              "  </thead>\n",
              "  <tbody>\n",
              "    <tr>\n",
              "      <th>0</th>\n",
              "      <td>[minh, mãe, pod, me, dá, um, iphon, só, de, pe...</td>\n",
              "      <td>muito relevante</td>\n",
              "      <td>relevante</td>\n",
              "    </tr>\n",
              "    <tr>\n",
              "      <th>1</th>\n",
              "      <td>[qri, faz, a, trend, da, tv, alem, de, ser, pe...</td>\n",
              "      <td>muito relevante</td>\n",
              "      <td>relevante</td>\n",
              "    </tr>\n",
              "    <tr>\n",
              "      <th>2</th>\n",
              "      <td>[pap, de, q, o, whatsapp, de, qu, tem, iphon, ...</td>\n",
              "      <td>relevante</td>\n",
              "      <td>muito irrelevante</td>\n",
              "    </tr>\n",
              "    <tr>\n",
              "      <th>3</th>\n",
              "      <td>[iphon, vai, esper, mais, um, pouc, pq, a, gat...</td>\n",
              "      <td>muito relevante</td>\n",
              "      <td>relevante</td>\n",
              "    </tr>\n",
              "    <tr>\n",
              "      <th>4</th>\n",
              "      <td>[alguém, sab, se, qu, quebr, a, tel, do, iphon...</td>\n",
              "      <td>relevante</td>\n",
              "      <td>neutro</td>\n",
              "    </tr>\n",
              "    <tr>\n",
              "      <th>...</th>\n",
              "      <td>...</td>\n",
              "      <td>...</td>\n",
              "      <td>...</td>\n",
              "    </tr>\n",
              "    <tr>\n",
              "      <th>245</th>\n",
              "      <td>[qual, iphon, compens, peg, agor, em]</td>\n",
              "      <td>relevante</td>\n",
              "      <td>muito relevante</td>\n",
              "    </tr>\n",
              "    <tr>\n",
              "      <th>246</th>\n",
              "      <td>[met, de, mar, ganh, um, iphon, da, melhor, amig]</td>\n",
              "      <td>muito relevante</td>\n",
              "      <td>relevante</td>\n",
              "    </tr>\n",
              "    <tr>\n",
              "      <th>247</th>\n",
              "      <td>[us, o, comb, iphon, macbook, e, airpod, é, pe...</td>\n",
              "      <td>relevante</td>\n",
              "      <td>muito relevante</td>\n",
              "    </tr>\n",
              "    <tr>\n",
              "      <th>248</th>\n",
              "      <td>[med, prefir, fic, sem, iphon]</td>\n",
              "      <td>muito relevante</td>\n",
              "      <td>neutro</td>\n",
              "    </tr>\n",
              "    <tr>\n",
              "      <th>249</th>\n",
              "      <td>[o, cúmul, do, absurd, é, eu, ter, iphon, e, n...</td>\n",
              "      <td>neutro</td>\n",
              "      <td>neutro</td>\n",
              "    </tr>\n",
              "  </tbody>\n",
              "</table>\n",
              "<p>250 rows × 3 columns</p>\n",
              "</div>"
            ],
            "text/plain": [
              "                                                 Teste       RELEVÂNCIA  \\\n",
              "0    [minh, mãe, pod, me, dá, um, iphon, só, de, pe...  muito relevante   \n",
              "1    [qri, faz, a, trend, da, tv, alem, de, ser, pe...  muito relevante   \n",
              "2    [pap, de, q, o, whatsapp, de, qu, tem, iphon, ...        relevante   \n",
              "3    [iphon, vai, esper, mais, um, pouc, pq, a, gat...  muito relevante   \n",
              "4    [alguém, sab, se, qu, quebr, a, tel, do, iphon...        relevante   \n",
              "..                                                 ...              ...   \n",
              "245              [qual, iphon, compens, peg, agor, em]        relevante   \n",
              "246  [met, de, mar, ganh, um, iphon, da, melhor, amig]  muito relevante   \n",
              "247  [us, o, comb, iphon, macbook, e, airpod, é, pe...        relevante   \n",
              "248                     [med, prefir, fic, sem, iphon]  muito relevante   \n",
              "249  [o, cúmul, do, absurd, é, eu, ter, iphon, e, n...           neutro   \n",
              "\n",
              "         Classificador  \n",
              "0            relevante  \n",
              "1            relevante  \n",
              "2    muito irrelevante  \n",
              "3            relevante  \n",
              "4               neutro  \n",
              "..                 ...  \n",
              "245    muito relevante  \n",
              "246          relevante  \n",
              "247    muito relevante  \n",
              "248             neutro  \n",
              "249             neutro  \n",
              "\n",
              "[250 rows x 3 columns]"
            ]
          },
          "metadata": {},
          "execution_count": 104
        }
      ],
      "metadata": {
        "id": "wwEQAAYu9MZI",
        "outputId": "39a9e6e7-1240-44cd-967d-9630ecbe8a17",
        "colab": {
          "base_uri": "https://localhost:8080/",
          "height": 35
        }
      }
    },
    {
      "cell_type": "code",
      "execution_count": 105,
      "source": [
        "sum(test.RELEVÂNCIA == test.Classificador) / test.shape[0]"
      ],
      "outputs": [
        {
          "output_type": "execute_result",
          "data": {
            "text/plain": [
              "0.316"
            ]
          },
          "metadata": {},
          "execution_count": 105
        }
      ],
      "metadata": {}
    },
    {
      "cell_type": "code",
      "execution_count": 106,
      "source": [
        "test['Acertos'] = test.Classificador == test.RELEVÂNCIA\r\n",
        "pd.crosstab(test.Acertos, test.RELEVÂNCIA, normalize='columns')"
      ],
      "outputs": [
        {
          "output_type": "execute_result",
          "data": {
            "text/html": [
              "<div>\n",
              "<style scoped>\n",
              "    .dataframe tbody tr th:only-of-type {\n",
              "        vertical-align: middle;\n",
              "    }\n",
              "\n",
              "    .dataframe tbody tr th {\n",
              "        vertical-align: top;\n",
              "    }\n",
              "\n",
              "    .dataframe thead th {\n",
              "        text-align: right;\n",
              "    }\n",
              "</style>\n",
              "<table border=\"1\" class=\"dataframe\">\n",
              "  <thead>\n",
              "    <tr style=\"text-align: right;\">\n",
              "      <th>RELEVÂNCIA</th>\n",
              "      <th>irrelevante</th>\n",
              "      <th>muito irrelevante</th>\n",
              "      <th>muito relevante</th>\n",
              "      <th>neutro</th>\n",
              "      <th>relevante</th>\n",
              "    </tr>\n",
              "    <tr>\n",
              "      <th>Acertos</th>\n",
              "      <th></th>\n",
              "      <th></th>\n",
              "      <th></th>\n",
              "      <th></th>\n",
              "      <th></th>\n",
              "    </tr>\n",
              "  </thead>\n",
              "  <tbody>\n",
              "    <tr>\n",
              "      <th>False</th>\n",
              "      <td>0.842105</td>\n",
              "      <td>0.627907</td>\n",
              "      <td>0.515625</td>\n",
              "      <td>0.566667</td>\n",
              "      <td>0.953125</td>\n",
              "    </tr>\n",
              "    <tr>\n",
              "      <th>True</th>\n",
              "      <td>0.157895</td>\n",
              "      <td>0.372093</td>\n",
              "      <td>0.484375</td>\n",
              "      <td>0.433333</td>\n",
              "      <td>0.046875</td>\n",
              "    </tr>\n",
              "  </tbody>\n",
              "</table>\n",
              "</div>"
            ],
            "text/plain": [
              "RELEVÂNCIA  irrelevante  muito irrelevante  muito relevante    neutro  \\\n",
              "Acertos                                                                 \n",
              "False          0.842105           0.627907         0.515625  0.566667   \n",
              "True           0.157895           0.372093         0.484375  0.433333   \n",
              "\n",
              "RELEVÂNCIA  relevante  \n",
              "Acertos                \n",
              "False        0.953125  \n",
              "True         0.046875  "
            ]
          },
          "metadata": {},
          "execution_count": 106
        }
      ],
      "metadata": {
        "id": "YCQt0aFxS5an",
        "outputId": "acf4fa27-7e46-409a-a0a0-9d9f682b49ec",
        "colab": {
          "base_uri": "https://localhost:8080/",
          "height": 141
        }
      }
    },
    {
      "cell_type": "code",
      "execution_count": 107,
      "source": [
        "pd.crosstab(test.Classificador, test.RELEVÂNCIA)"
      ],
      "outputs": [
        {
          "output_type": "execute_result",
          "data": {
            "text/html": [
              "<div>\n",
              "<style scoped>\n",
              "    .dataframe tbody tr th:only-of-type {\n",
              "        vertical-align: middle;\n",
              "    }\n",
              "\n",
              "    .dataframe tbody tr th {\n",
              "        vertical-align: top;\n",
              "    }\n",
              "\n",
              "    .dataframe thead th {\n",
              "        text-align: right;\n",
              "    }\n",
              "</style>\n",
              "<table border=\"1\" class=\"dataframe\">\n",
              "  <thead>\n",
              "    <tr style=\"text-align: right;\">\n",
              "      <th>RELEVÂNCIA</th>\n",
              "      <th>irrelevante</th>\n",
              "      <th>muito irrelevante</th>\n",
              "      <th>muito relevante</th>\n",
              "      <th>neutro</th>\n",
              "      <th>relevante</th>\n",
              "    </tr>\n",
              "    <tr>\n",
              "      <th>Classificador</th>\n",
              "      <th></th>\n",
              "      <th></th>\n",
              "      <th></th>\n",
              "      <th></th>\n",
              "      <th></th>\n",
              "    </tr>\n",
              "  </thead>\n",
              "  <tbody>\n",
              "    <tr>\n",
              "      <th>irrelevante</th>\n",
              "      <td>3</td>\n",
              "      <td>4</td>\n",
              "      <td>2</td>\n",
              "      <td>2</td>\n",
              "      <td>1</td>\n",
              "    </tr>\n",
              "    <tr>\n",
              "      <th>muito irrelevante</th>\n",
              "      <td>5</td>\n",
              "      <td>16</td>\n",
              "      <td>11</td>\n",
              "      <td>16</td>\n",
              "      <td>20</td>\n",
              "    </tr>\n",
              "    <tr>\n",
              "      <th>muito relevante</th>\n",
              "      <td>4</td>\n",
              "      <td>15</td>\n",
              "      <td>31</td>\n",
              "      <td>15</td>\n",
              "      <td>24</td>\n",
              "    </tr>\n",
              "    <tr>\n",
              "      <th>neutro</th>\n",
              "      <td>5</td>\n",
              "      <td>5</td>\n",
              "      <td>11</td>\n",
              "      <td>26</td>\n",
              "      <td>16</td>\n",
              "    </tr>\n",
              "    <tr>\n",
              "      <th>relevante</th>\n",
              "      <td>2</td>\n",
              "      <td>3</td>\n",
              "      <td>9</td>\n",
              "      <td>1</td>\n",
              "      <td>3</td>\n",
              "    </tr>\n",
              "  </tbody>\n",
              "</table>\n",
              "</div>"
            ],
            "text/plain": [
              "RELEVÂNCIA         irrelevante  muito irrelevante  muito relevante  neutro  \\\n",
              "Classificador                                                                \n",
              "irrelevante                  3                  4                2       2   \n",
              "muito irrelevante            5                 16               11      16   \n",
              "muito relevante              4                 15               31      15   \n",
              "neutro                       5                  5               11      26   \n",
              "relevante                    2                  3                9       1   \n",
              "\n",
              "RELEVÂNCIA         relevante  \n",
              "Classificador                 \n",
              "irrelevante                1  \n",
              "muito irrelevante         20  \n",
              "muito relevante           24  \n",
              "neutro                    16  \n",
              "relevante                  3  "
            ]
          },
          "metadata": {},
          "execution_count": 107
        }
      ],
      "metadata": {
        "id": "PeqZ8y0XS5ao"
      }
    },
    {
      "cell_type": "markdown",
      "source": [
        "---\n",
        "\n",
        "### Concluindo\n"
      ],
      "metadata": {
        "id": "7gMKa9MzS5ao"
      }
    },
    {
      "cell_type": "code",
      "execution_count": null,
      "source": [],
      "outputs": [],
      "metadata": {
        "id": "Xlvu5OaVS5ap"
      }
    },
    {
      "cell_type": "code",
      "execution_count": null,
      "source": [],
      "outputs": [],
      "metadata": {
        "id": "daaGFDpwS5ap"
      }
    },
    {
      "cell_type": "code",
      "execution_count": null,
      "source": [],
      "outputs": [],
      "metadata": {
        "id": "yeshhWEUS5ap"
      }
    },
    {
      "cell_type": "markdown",
      "source": [
        "---\n",
        "\n",
        "### Qualidade do Classificador a partir de novas separações dos tweets entre Treinamento e Teste\n",
        "\n",
        "Caso for fazer esse item do Projeto\n"
      ],
      "metadata": {
        "id": "FejWaux3S5ar"
      }
    },
    {
      "cell_type": "code",
      "execution_count": null,
      "source": [],
      "outputs": [],
      "metadata": {
        "id": "Z4P2m9V-S5as"
      }
    },
    {
      "cell_type": "code",
      "execution_count": null,
      "source": [],
      "outputs": [],
      "metadata": {
        "id": "kXka_PEhS5as"
      }
    },
    {
      "cell_type": "code",
      "execution_count": null,
      "source": [],
      "outputs": [],
      "metadata": {
        "id": "AEZjpv53S5as"
      }
    },
    {
      "cell_type": "markdown",
      "source": [
        "# Entendendo melhor o conceito do classificador Naive-Bayes\n"
      ],
      "metadata": {}
    },
    {
      "cell_type": "markdown",
      "source": [
        "O classificador não pode ser utilizar ele mesmo para gerar mais tweets para classificar, pois ele ficaria enviesado, por não serem geradas novas amostras, com novas palavras, mas sim amostras reutilizando a mesma gama de palavras."
      ],
      "metadata": {}
    },
    {
      "cell_type": "markdown",
      "source": [
        "# Novas iterações\n",
        "Decidiu-se implementar uma randomização na separação dos tweets entre Treinamento e Teste, com a acurácia de 100 repetições. **Segue abaixo.**"
      ],
      "metadata": {}
    },
    {
      "cell_type": "code",
      "execution_count": 108,
      "source": [
        "# juntando ambos dataframes, Treinamento e Teste\r\n",
        "df_complete = pd.DataFrame({\r\n",
        "    'Tweets': train.Treinamento.append(test.Teste, ignore_index=True),\r\n",
        "    'Relevancia': train.RELEVÂNCIA.append(test.RELEVÂNCIA, ignore_index= True),\r\n",
        "})\r\n",
        "df_complete = df_complete.sample(frac=1).reset_index(drop=True)\r\n",
        "df_complete"
      ],
      "outputs": [
        {
          "output_type": "execute_result",
          "data": {
            "text/html": [
              "<div>\n",
              "<style scoped>\n",
              "    .dataframe tbody tr th:only-of-type {\n",
              "        vertical-align: middle;\n",
              "    }\n",
              "\n",
              "    .dataframe tbody tr th {\n",
              "        vertical-align: top;\n",
              "    }\n",
              "\n",
              "    .dataframe thead th {\n",
              "        text-align: right;\n",
              "    }\n",
              "</style>\n",
              "<table border=\"1\" class=\"dataframe\">\n",
              "  <thead>\n",
              "    <tr style=\"text-align: right;\">\n",
              "      <th></th>\n",
              "      <th>Tweets</th>\n",
              "      <th>Relevancia</th>\n",
              "    </tr>\n",
              "  </thead>\n",
              "  <tbody>\n",
              "    <tr>\n",
              "      <th>0</th>\n",
              "      <td>[pobr, não, pod, ter, iphon, mesm, não, da, o,...</td>\n",
              "      <td>relevante</td>\n",
              "    </tr>\n",
              "    <tr>\n",
              "      <th>1</th>\n",
              "      <td>[nao, vai, ter, eu, ganh, um, iphon, 🤨]</td>\n",
              "      <td>irrelevante</td>\n",
              "    </tr>\n",
              "    <tr>\n",
              "      <th>2</th>\n",
              "      <td>[escuch, la, mej, estacion, de, edm, lmm, edm,...</td>\n",
              "      <td>muito irrelevante</td>\n",
              "    </tr>\n",
              "    <tr>\n",
              "      <th>3</th>\n",
              "      <td>[meu, pai, preocup, que, sum, “, algum, ”, sac...</td>\n",
              "      <td>muito relevante</td>\n",
              "    </tr>\n",
              "    <tr>\n",
              "      <th>4</th>\n",
              "      <td>[minh, últ, esperanç, de, ach, meu, iphon, foi...</td>\n",
              "      <td>neutro</td>\n",
              "    </tr>\n",
              "    <tr>\n",
              "      <th>...</th>\n",
              "      <td>...</td>\n",
              "      <td>...</td>\n",
              "    </tr>\n",
              "    <tr>\n",
              "      <th>995</th>\n",
              "      <td>[qu, eu, emagrec, tiv, um, iphon, volt, a, est...</td>\n",
              "      <td>muito irrelevante</td>\n",
              "    </tr>\n",
              "    <tr>\n",
              "      <th>996</th>\n",
              "      <td>[oloc, ond, que, tem, iphon, pro, max, por, k,...</td>\n",
              "      <td>relevante</td>\n",
              "    </tr>\n",
              "    <tr>\n",
              "      <th>997</th>\n",
              "      <td>[a, appl, tem, na, list, de, sua, mai, realiz,...</td>\n",
              "      <td>muito irrelevante</td>\n",
              "    </tr>\n",
              "    <tr>\n",
              "      <th>998</th>\n",
              "      <td>[idiot, é, qu, não, ama, as, cor, de, noss, pá...</td>\n",
              "      <td>muito irrelevante</td>\n",
              "    </tr>\n",
              "    <tr>\n",
              "      <th>999</th>\n",
              "      <td>[descol, um, iphon, pra, mim, 🥰]</td>\n",
              "      <td>relevante</td>\n",
              "    </tr>\n",
              "  </tbody>\n",
              "</table>\n",
              "<p>1000 rows × 2 columns</p>\n",
              "</div>"
            ],
            "text/plain": [
              "                                                Tweets         Relevancia\n",
              "0    [pobr, não, pod, ter, iphon, mesm, não, da, o,...          relevante\n",
              "1              [nao, vai, ter, eu, ganh, um, iphon, 🤨]        irrelevante\n",
              "2    [escuch, la, mej, estacion, de, edm, lmm, edm,...  muito irrelevante\n",
              "3    [meu, pai, preocup, que, sum, “, algum, ”, sac...    muito relevante\n",
              "4    [minh, últ, esperanç, de, ach, meu, iphon, foi...             neutro\n",
              "..                                                 ...                ...\n",
              "995  [qu, eu, emagrec, tiv, um, iphon, volt, a, est...  muito irrelevante\n",
              "996  [oloc, ond, que, tem, iphon, pro, max, por, k,...          relevante\n",
              "997  [a, appl, tem, na, list, de, sua, mai, realiz,...  muito irrelevante\n",
              "998  [idiot, é, qu, não, ama, as, cor, de, noss, pá...  muito irrelevante\n",
              "999                   [descol, um, iphon, pra, mim, 🥰]          relevante\n",
              "\n",
              "[1000 rows x 2 columns]"
            ]
          },
          "metadata": {},
          "execution_count": 108
        }
      ],
      "metadata": {}
    },
    {
      "cell_type": "code",
      "execution_count": 110,
      "source": [
        "# recriando as categorias classificativas\r\n",
        "\r\n",
        "new_relevancia = []\r\n",
        "for r in df_complete.Relevancia:\r\n",
        "    if r == \"muito irrelevante\":\r\n",
        "        r = \"irrelevante\"\r\n",
        "    if r == \"muito relevante\":\r\n",
        "        r = \"relevante\"\r\n",
        "    new_relevancia.append(r)\r\n",
        "df_complete[\"Relevancia\"] = new_relevancia\r\n",
        "df_complete"
      ],
      "outputs": [
        {
          "output_type": "execute_result",
          "data": {
            "text/html": [
              "<div>\n",
              "<style scoped>\n",
              "    .dataframe tbody tr th:only-of-type {\n",
              "        vertical-align: middle;\n",
              "    }\n",
              "\n",
              "    .dataframe tbody tr th {\n",
              "        vertical-align: top;\n",
              "    }\n",
              "\n",
              "    .dataframe thead th {\n",
              "        text-align: right;\n",
              "    }\n",
              "</style>\n",
              "<table border=\"1\" class=\"dataframe\">\n",
              "  <thead>\n",
              "    <tr style=\"text-align: right;\">\n",
              "      <th></th>\n",
              "      <th>Tweets</th>\n",
              "      <th>Relevancia</th>\n",
              "    </tr>\n",
              "  </thead>\n",
              "  <tbody>\n",
              "    <tr>\n",
              "      <th>0</th>\n",
              "      <td>[pobr, não, pod, ter, iphon, mesm, não, da, o,...</td>\n",
              "      <td>relevante</td>\n",
              "    </tr>\n",
              "    <tr>\n",
              "      <th>1</th>\n",
              "      <td>[nao, vai, ter, eu, ganh, um, iphon, 🤨]</td>\n",
              "      <td>irrelevante</td>\n",
              "    </tr>\n",
              "    <tr>\n",
              "      <th>2</th>\n",
              "      <td>[escuch, la, mej, estacion, de, edm, lmm, edm,...</td>\n",
              "      <td>irrelevante</td>\n",
              "    </tr>\n",
              "    <tr>\n",
              "      <th>3</th>\n",
              "      <td>[meu, pai, preocup, que, sum, “, algum, ”, sac...</td>\n",
              "      <td>relevante</td>\n",
              "    </tr>\n",
              "    <tr>\n",
              "      <th>4</th>\n",
              "      <td>[minh, últ, esperanç, de, ach, meu, iphon, foi...</td>\n",
              "      <td>neutro</td>\n",
              "    </tr>\n",
              "    <tr>\n",
              "      <th>...</th>\n",
              "      <td>...</td>\n",
              "      <td>...</td>\n",
              "    </tr>\n",
              "    <tr>\n",
              "      <th>995</th>\n",
              "      <td>[qu, eu, emagrec, tiv, um, iphon, volt, a, est...</td>\n",
              "      <td>irrelevante</td>\n",
              "    </tr>\n",
              "    <tr>\n",
              "      <th>996</th>\n",
              "      <td>[oloc, ond, que, tem, iphon, pro, max, por, k,...</td>\n",
              "      <td>relevante</td>\n",
              "    </tr>\n",
              "    <tr>\n",
              "      <th>997</th>\n",
              "      <td>[a, appl, tem, na, list, de, sua, mai, realiz,...</td>\n",
              "      <td>irrelevante</td>\n",
              "    </tr>\n",
              "    <tr>\n",
              "      <th>998</th>\n",
              "      <td>[idiot, é, qu, não, ama, as, cor, de, noss, pá...</td>\n",
              "      <td>irrelevante</td>\n",
              "    </tr>\n",
              "    <tr>\n",
              "      <th>999</th>\n",
              "      <td>[descol, um, iphon, pra, mim, 🥰]</td>\n",
              "      <td>relevante</td>\n",
              "    </tr>\n",
              "  </tbody>\n",
              "</table>\n",
              "<p>1000 rows × 2 columns</p>\n",
              "</div>"
            ],
            "text/plain": [
              "                                                Tweets   Relevancia\n",
              "0    [pobr, não, pod, ter, iphon, mesm, não, da, o,...    relevante\n",
              "1              [nao, vai, ter, eu, ganh, um, iphon, 🤨]  irrelevante\n",
              "2    [escuch, la, mej, estacion, de, edm, lmm, edm,...  irrelevante\n",
              "3    [meu, pai, preocup, que, sum, “, algum, ”, sac...    relevante\n",
              "4    [minh, últ, esperanç, de, ach, meu, iphon, foi...       neutro\n",
              "..                                                 ...          ...\n",
              "995  [qu, eu, emagrec, tiv, um, iphon, volt, a, est...  irrelevante\n",
              "996  [oloc, ond, que, tem, iphon, pro, max, por, k,...    relevante\n",
              "997  [a, appl, tem, na, list, de, sua, mai, realiz,...  irrelevante\n",
              "998  [idiot, é, qu, não, ama, as, cor, de, noss, pá...  irrelevante\n",
              "999                   [descol, um, iphon, pra, mim, 🥰]    relevante\n",
              "\n",
              "[1000 rows x 2 columns]"
            ]
          },
          "metadata": {},
          "execution_count": 110
        }
      ],
      "metadata": {}
    },
    {
      "cell_type": "code",
      "execution_count": null,
      "source": [],
      "outputs": [],
      "metadata": {}
    },
    {
      "cell_type": "code",
      "execution_count": 109,
      "source": [
        "# construindo classificador\n",
        "categorias = ['irrelevante','neutro', 'relevante']\n",
        "\n",
        "# número de palavras/emojis únicos presentes em toda a base de dados\n",
        "palavras_unicas = set(sum(train.Treinamento, []))\n",
        "\n",
        "# lista de palavras por categoria\n",
        "palavras_por_categoria = {\n",
        "    categoria: sum(train[train.RELEVÂNCIA == categoria].Treinamento, [])\n",
        "    for categoria in categorias\n",
        "}\n",
        "\n",
        "# número de ocorrências de palavra por categoria\n",
        "ocorrencia_de_palavras_por_categoria =  {\n",
        "    categoria: {\n",
        "        palavra: palavras_por_categoria[categoria].count(palavra)\n",
        "        for palavra in palavras_unicas\n",
        "    }\n",
        "    for categoria in categorias\n",
        "}\n",
        "\n",
        "\n",
        "def prob_frase(categoria, frase):\n",
        "    '''\n",
        "    Calcula a probabilidade de frase estar em categoria\n",
        "    '''\n",
        "    # limpeza de frase caso forneciada no formato de str\n",
        "    if frase is str:\n",
        "        frase = clean_data(frase)\n",
        "    \n",
        "    # cálculo da probabilidade\n",
        "    return np.array(list(\n",
        "        # probabilidade de cada palavra com suavização de laplace\n",
        "        (((ocorrencia_de_palavras_por_categoria[categoria][palavra] + 1)\n",
        "        if palavra in palavras_unicas else 1) /\n",
        "         (len(palavras_por_categoria[categoria]) + len(palavras_unicas)))\n",
        "        for palavra in frase\n",
        "    )).prod()  # produto da probabilidade de cada palavra\n",
        "\n",
        "\n",
        "def classificador(frase):\n",
        "    '''\n",
        "    Retorna a categoria com a maior probabilidade de conter frase\n",
        "    '''\n",
        "    return max(\n",
        "        categorias, key=lambda categoria: prob_frase(categoria, frase)\n",
        "    )"
      ],
      "outputs": [],
      "metadata": {}
    },
    {
      "cell_type": "markdown",
      "source": [
        "---\n",
        "\n",
        "## Aperfeiçoamento:\n",
        "\n",
        "Trabalhos que conseguirem pelo menos conceito B vão evoluir em conceito dependendo da quantidade de itens avançados:\n",
        "\n",
        "\n",
        "(√) IMPLEMENTOU outras limpezas e transformações que não afetem a qualidade da informação contida nos tweets. Ex: stemming, lemmatization, stopwords\n",
        "\n",
        "(√) CORRIGIU separação de espaços entre palavras e emojis ou entre emojis e emojis\n",
        "\n",
        "(√) CRIOU categorias intermediárias de relevância baseadas na probabilidade: ex.: muito relevante, relevante, neutro, irrelevante, muito irrelevante. Pelo menos quatro categorias, com adição de mais tweets na base, conforme enunciado. (OBRIGATÓRIO PARA TRIOS, sem contar como item avançado)\n",
        "\n",
        "(√) EXPLICOU porquê não pode usar o próprio classificador para gerar mais amostras de treinamento\n",
        "\n",
        "() PROPÔS diferentes cenários para Naïve Bayes fora do contexto do projeto\n",
        "\n",
        "() SUGERIU e EXPLICOU melhorias reais com indicações concretas de como implementar (indicar como fazer e indicar material de pesquisa)\n",
        "\n",
        "() FEZ o item 6. Qualidade do Classificador a partir de novas separações dos tweets entre Treinamento e Teste descrito no enunciado do projeto (OBRIGATÓRIO para conceitos A ou A+)\n"
      ],
      "metadata": {
        "id": "KNN-SzU5S5at"
      }
    },
    {
      "cell_type": "markdown",
      "source": [
        "---\n",
        "\n",
        "## Referências\n"
      ],
      "metadata": {
        "id": "q0Y_1D2QS5au"
      }
    },
    {
      "cell_type": "markdown",
      "source": [
        "<a href=\"https://arxiv.org/pdf/1410.5329.pdf\">Naive Bayes and Text Classification</a><br> **Mais completo**\n",
        "\n",
        "\n",
        "<a href=\"https://monkeylearn.com/blog/practical-explanation-naive-bayes-classifier/\">A practical explanation of a Naive Bayes Classifier</a><br> **Mais simples**\n",
        "\n",
        "\n",
        "<a href=\"https://www.akitaonrails.com/2020/09/30/akitando-84-entendendo-o-dilema-social-e-como-voce-e-manipulado\">Blog post sobre aplicações do teorema Bayesiano</a><br>\n",
        "\n",
        "\n",
        "<a href=\"https://www.youtube.com/watch?v=HZGCoVF3YvM\">3Blue1Brown: Bayes Theorem</a><br>\n",
        "\n",
        "\n",
        "<a href=\"https://www.youtube.com/watch?v=R13BD8qKeTg\">Veritasium: The Bayesian Trap</a><br>\n"
      ],
      "metadata": {}
    }
  ]
}